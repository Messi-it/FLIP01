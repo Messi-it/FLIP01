{
 "cells": [
  {
   "cell_type": "code",
   "execution_count": 1,
   "metadata": {},
   "outputs": [],
   "source": [
    "import pandas as pd\n",
    "import os\n",
    "import re\n",
    "import numpy as np\n",
    "import matplotlib.pyplot as plt\n",
    "from wordcloud import WordCloud\n",
    "from gensim.models import Word2Vec"
   ]
  },
  {
   "cell_type": "markdown",
   "metadata": {},
   "source": [
    "导入库函数"
   ]
  },
  {
   "cell_type": "code",
   "execution_count": 2,
   "metadata": {},
   "outputs": [],
   "source": [
    "train_filename = 'E:/tulip-flip/flip01/data/train.json'\n",
    "test_filename = 'E:/tulip-flip/flip01/data//test.json'"
   ]
  },
  {
   "cell_type": "code",
   "execution_count": 3,
   "metadata": {},
   "outputs": [],
   "source": [
    "train = pd.read_json(train_filename)"
   ]
  },
  {
   "cell_type": "code",
   "execution_count": 4,
   "metadata": {},
   "outputs": [
    {
     "data": {
      "text/html": [
       "<div>\n",
       "<style scoped>\n",
       "    .dataframe tbody tr th:only-of-type {\n",
       "        vertical-align: middle;\n",
       "    }\n",
       "\n",
       "    .dataframe tbody tr th {\n",
       "        vertical-align: top;\n",
       "    }\n",
       "\n",
       "    .dataframe thead th {\n",
       "        text-align: right;\n",
       "    }\n",
       "</style>\n",
       "<table border=\"1\" class=\"dataframe\">\n",
       "  <thead>\n",
       "    <tr style=\"text-align: right;\">\n",
       "      <th></th>\n",
       "      <th>cuisine</th>\n",
       "      <th>id</th>\n",
       "      <th>ingredients</th>\n",
       "    </tr>\n",
       "  </thead>\n",
       "  <tbody>\n",
       "    <tr>\n",
       "      <th>0</th>\n",
       "      <td>greek</td>\n",
       "      <td>10259</td>\n",
       "      <td>[romaine lettuce, black olives, grape tomatoes...</td>\n",
       "    </tr>\n",
       "    <tr>\n",
       "      <th>1</th>\n",
       "      <td>southern_us</td>\n",
       "      <td>25693</td>\n",
       "      <td>[plain flour, ground pepper, salt, tomatoes, g...</td>\n",
       "    </tr>\n",
       "    <tr>\n",
       "      <th>2</th>\n",
       "      <td>filipino</td>\n",
       "      <td>20130</td>\n",
       "      <td>[eggs, pepper, salt, mayonaise, cooking oil, g...</td>\n",
       "    </tr>\n",
       "    <tr>\n",
       "      <th>3</th>\n",
       "      <td>indian</td>\n",
       "      <td>22213</td>\n",
       "      <td>[water, vegetable oil, wheat, salt]</td>\n",
       "    </tr>\n",
       "    <tr>\n",
       "      <th>4</th>\n",
       "      <td>indian</td>\n",
       "      <td>13162</td>\n",
       "      <td>[black pepper, shallots, cornflour, cayenne pe...</td>\n",
       "    </tr>\n",
       "  </tbody>\n",
       "</table>\n",
       "</div>"
      ],
      "text/plain": [
       "       cuisine     id                                        ingredients\n",
       "0        greek  10259  [romaine lettuce, black olives, grape tomatoes...\n",
       "1  southern_us  25693  [plain flour, ground pepper, salt, tomatoes, g...\n",
       "2     filipino  20130  [eggs, pepper, salt, mayonaise, cooking oil, g...\n",
       "3       indian  22213                [water, vegetable oil, wheat, salt]\n",
       "4       indian  13162  [black pepper, shallots, cornflour, cayenne pe..."
      ]
     },
     "execution_count": 4,
     "metadata": {},
     "output_type": "execute_result"
    }
   ],
   "source": [
    "train.head()"
   ]
  },
  {
   "cell_type": "code",
   "execution_count": 5,
   "metadata": {},
   "outputs": [],
   "source": [
    "label = list(train['cuisine'].unique())"
   ]
  },
  {
   "cell_type": "code",
   "execution_count": 6,
   "metadata": {},
   "outputs": [],
   "source": [
    "def label_dataset(row):\n",
    "    num_label = label.index(row)\n",
    "    return num_label\n",
    "\n",
    "train['label'] = train['cuisine'].apply(label_dataset)"
   ]
  },
  {
   "cell_type": "code",
   "execution_count": 7,
   "metadata": {},
   "outputs": [
    {
     "data": {
      "text/html": [
       "<div>\n",
       "<style scoped>\n",
       "    .dataframe tbody tr th:only-of-type {\n",
       "        vertical-align: middle;\n",
       "    }\n",
       "\n",
       "    .dataframe tbody tr th {\n",
       "        vertical-align: top;\n",
       "    }\n",
       "\n",
       "    .dataframe thead th {\n",
       "        text-align: right;\n",
       "    }\n",
       "</style>\n",
       "<table border=\"1\" class=\"dataframe\">\n",
       "  <thead>\n",
       "    <tr style=\"text-align: right;\">\n",
       "      <th></th>\n",
       "      <th>cuisine</th>\n",
       "      <th>id</th>\n",
       "      <th>ingredients</th>\n",
       "      <th>label</th>\n",
       "    </tr>\n",
       "  </thead>\n",
       "  <tbody>\n",
       "    <tr>\n",
       "      <th>39769</th>\n",
       "      <td>irish</td>\n",
       "      <td>29109</td>\n",
       "      <td>[light brown sugar, granulated sugar, butter, ...</td>\n",
       "      <td>16</td>\n",
       "    </tr>\n",
       "    <tr>\n",
       "      <th>39770</th>\n",
       "      <td>italian</td>\n",
       "      <td>11462</td>\n",
       "      <td>[KRAFT Zesty Italian Dressing, purple onion, b...</td>\n",
       "      <td>6</td>\n",
       "    </tr>\n",
       "    <tr>\n",
       "      <th>39771</th>\n",
       "      <td>irish</td>\n",
       "      <td>2238</td>\n",
       "      <td>[eggs, citrus fruit, raisins, sourdough starte...</td>\n",
       "      <td>16</td>\n",
       "    </tr>\n",
       "    <tr>\n",
       "      <th>39772</th>\n",
       "      <td>chinese</td>\n",
       "      <td>41882</td>\n",
       "      <td>[boneless chicken skinless thigh, minced garli...</td>\n",
       "      <td>8</td>\n",
       "    </tr>\n",
       "    <tr>\n",
       "      <th>39773</th>\n",
       "      <td>mexican</td>\n",
       "      <td>2362</td>\n",
       "      <td>[green chile, jalapeno chilies, onions, ground...</td>\n",
       "      <td>7</td>\n",
       "    </tr>\n",
       "  </tbody>\n",
       "</table>\n",
       "</div>"
      ],
      "text/plain": [
       "       cuisine     id                                        ingredients  \\\n",
       "39769    irish  29109  [light brown sugar, granulated sugar, butter, ...   \n",
       "39770  italian  11462  [KRAFT Zesty Italian Dressing, purple onion, b...   \n",
       "39771    irish   2238  [eggs, citrus fruit, raisins, sourdough starte...   \n",
       "39772  chinese  41882  [boneless chicken skinless thigh, minced garli...   \n",
       "39773  mexican   2362  [green chile, jalapeno chilies, onions, ground...   \n",
       "\n",
       "       label  \n",
       "39769     16  \n",
       "39770      6  \n",
       "39771     16  \n",
       "39772      8  \n",
       "39773      7  "
      ]
     },
     "execution_count": 7,
     "metadata": {},
     "output_type": "execute_result"
    }
   ],
   "source": [
    "train.tail()"
   ]
  },
  {
   "cell_type": "code",
   "execution_count": 8,
   "metadata": {},
   "outputs": [],
   "source": [
    "stop = ['，','。','[',']','{','}','\"',':',',']"
   ]
  },
  {
   "cell_type": "code",
   "execution_count": 9,
   "metadata": {},
   "outputs": [],
   "source": [
    "train['ingredients'] = [[j for j in i if j not in stop]for i in train['ingredients']]"
   ]
  },
  {
   "cell_type": "code",
   "execution_count": 10,
   "metadata": {},
   "outputs": [
    {
     "data": {
      "text/html": [
       "<div>\n",
       "<style scoped>\n",
       "    .dataframe tbody tr th:only-of-type {\n",
       "        vertical-align: middle;\n",
       "    }\n",
       "\n",
       "    .dataframe tbody tr th {\n",
       "        vertical-align: top;\n",
       "    }\n",
       "\n",
       "    .dataframe thead th {\n",
       "        text-align: right;\n",
       "    }\n",
       "</style>\n",
       "<table border=\"1\" class=\"dataframe\">\n",
       "  <thead>\n",
       "    <tr style=\"text-align: right;\">\n",
       "      <th></th>\n",
       "      <th>cuisine</th>\n",
       "      <th>id</th>\n",
       "      <th>ingredients</th>\n",
       "      <th>label</th>\n",
       "    </tr>\n",
       "  </thead>\n",
       "  <tbody>\n",
       "    <tr>\n",
       "      <th>39769</th>\n",
       "      <td>irish</td>\n",
       "      <td>29109</td>\n",
       "      <td>[light brown sugar, granulated sugar, butter, ...</td>\n",
       "      <td>16</td>\n",
       "    </tr>\n",
       "    <tr>\n",
       "      <th>39770</th>\n",
       "      <td>italian</td>\n",
       "      <td>11462</td>\n",
       "      <td>[KRAFT Zesty Italian Dressing, purple onion, b...</td>\n",
       "      <td>6</td>\n",
       "    </tr>\n",
       "    <tr>\n",
       "      <th>39771</th>\n",
       "      <td>irish</td>\n",
       "      <td>2238</td>\n",
       "      <td>[eggs, citrus fruit, raisins, sourdough starte...</td>\n",
       "      <td>16</td>\n",
       "    </tr>\n",
       "    <tr>\n",
       "      <th>39772</th>\n",
       "      <td>chinese</td>\n",
       "      <td>41882</td>\n",
       "      <td>[boneless chicken skinless thigh, minced garli...</td>\n",
       "      <td>8</td>\n",
       "    </tr>\n",
       "    <tr>\n",
       "      <th>39773</th>\n",
       "      <td>mexican</td>\n",
       "      <td>2362</td>\n",
       "      <td>[green chile, jalapeno chilies, onions, ground...</td>\n",
       "      <td>7</td>\n",
       "    </tr>\n",
       "  </tbody>\n",
       "</table>\n",
       "</div>"
      ],
      "text/plain": [
       "       cuisine     id                                        ingredients  \\\n",
       "39769    irish  29109  [light brown sugar, granulated sugar, butter, ...   \n",
       "39770  italian  11462  [KRAFT Zesty Italian Dressing, purple onion, b...   \n",
       "39771    irish   2238  [eggs, citrus fruit, raisins, sourdough starte...   \n",
       "39772  chinese  41882  [boneless chicken skinless thigh, minced garli...   \n",
       "39773  mexican   2362  [green chile, jalapeno chilies, onions, ground...   \n",
       "\n",
       "       label  \n",
       "39769     16  \n",
       "39770      6  \n",
       "39771     16  \n",
       "39772      8  \n",
       "39773      7  "
      ]
     },
     "execution_count": 10,
     "metadata": {},
     "output_type": "execute_result"
    }
   ],
   "source": [
    "train.tail()"
   ]
  },
  {
   "cell_type": "code",
   "execution_count": 11,
   "metadata": {},
   "outputs": [],
   "source": [
    "sentences = train['ingredients']"
   ]
  },
  {
   "cell_type": "code",
   "execution_count": 12,
   "metadata": {},
   "outputs": [],
   "source": [
    "model = Word2Vec(sentences,sg=1,size=300,window=5,min_count=1,negative=3,sample=0.001,hs=1,workers=4)"
   ]
  },
  {
   "cell_type": "code",
   "execution_count": 13,
   "metadata": {},
   "outputs": [],
   "source": [
    "model.wv.save_word2vec_format(\"word2vec\",binary = \"Ture\")  #通过该方式保存的模型，能通过文本格式打开，也能通过设置binary是否保存为二进制文件。但该模型在保存时丢弃了树的保存形式（详情参加word2vec构建过程，以类似哈夫曼树的形式保存词），所以在后续不能对模型进行追加训练"
   ]
  },
  {
   "cell_type": "code",
   "execution_count": 14,
   "metadata": {},
   "outputs": [
    {
     "data": {
      "text/plain": [
       "<gensim.models.word2vec.Word2Vec at 0x21b56f54048>"
      ]
     },
     "execution_count": 14,
     "metadata": {},
     "output_type": "execute_result"
    }
   ],
   "source": [
    "model"
   ]
  },
  {
   "cell_type": "code",
   "execution_count": 15,
   "metadata": {},
   "outputs": [
    {
     "name": "stderr",
     "output_type": "stream",
     "text": [
      "D:\\anaconda\\lib\\site-packages\\ipykernel_launcher.py:1: DeprecationWarning: Call to deprecated `most_similar` (Method will be removed in 4.0.0, use self.wv.most_similar() instead).\n",
      "  \"\"\"Entry point for launching an IPython kernel.\n"
     ]
    },
    {
     "data": {
      "text/plain": [
       "[('yellow hominy', 0.7737886905670166),\n",
       " (\"Campbell's Condensed Cream of Chicken Soup\", 0.7605928182601929),\n",
       " ('picante sauce', 0.750419020652771),\n",
       " ('seasoned ground turkey', 0.7407606840133667),\n",
       " ('mexican style 4 cheese blend', 0.7391599416732788),\n",
       " ('40% less sodium taco seasoning mix', 0.7374980449676514),\n",
       " ('green chile sauce', 0.7366937398910522),\n",
       " ('fat-free cheddar cheese', 0.7363815903663635),\n",
       " ('40% less sodium taco seasoning', 0.7340618371963501),\n",
       " ('green enchilada sauce', 0.7316405773162842)]"
      ]
     },
     "execution_count": 15,
     "metadata": {},
     "output_type": "execute_result"
    }
   ],
   "source": [
    "model.most_similar(\"green chile\",topn=10)"
   ]
  },
  {
   "cell_type": "code",
   "execution_count": 16,
   "metadata": {},
   "outputs": [
    {
     "data": {
      "text/plain": [
       "gensim.models.word2vec.Word2Vec"
      ]
     },
     "execution_count": 16,
     "metadata": {},
     "output_type": "execute_result"
    }
   ],
   "source": [
    "type(model)"
   ]
  },
  {
   "cell_type": "code",
   "execution_count": 17,
   "metadata": {},
   "outputs": [],
   "source": [
    "def getVector_v2(sentences, model):\n",
    "        vector_list = [ word2vec_model[k] for k in sentences if k in model]\n",
    "        vector_df = pd.DataFrame(vector_list)\n",
    "        sentences_vector = vector_df.mean(axis=0).values\n",
    "        return sentences_vector"
   ]
  },
  {
   "cell_type": "code",
   "execution_count": 18,
   "metadata": {},
   "outputs": [],
   "source": [
    "import time"
   ]
  },
  {
   "cell_type": "code",
   "execution_count": 19,
   "metadata": {},
   "outputs": [
    {
     "name": "stdout",
     "output_type": "stream",
     "text": [
      "Word2Vec(vocab=6714, size=300, alpha=0.025)\n"
     ]
    }
   ],
   "source": [
    "print(model)"
   ]
  },
  {
   "cell_type": "code",
   "execution_count": 20,
   "metadata": {},
   "outputs": [
    {
     "name": "stdout",
     "output_type": "stream",
     "text": [
      "[-0.23039174  0.03566215  0.02704169 -0.27687225  0.24211936  0.2314021\n",
      "  0.11491535  0.11870423  0.14582466 -0.07369235  0.22664581 -0.00996044\n",
      "  0.07065434 -0.19292407 -0.06428402  0.03325577 -0.02328974  0.03014048\n",
      "  0.16198252 -0.16053805  0.00676129 -0.25644076  0.08240806 -0.22108832\n",
      "  0.09631296 -0.01736156 -0.01399462 -0.14135051  0.18267167  0.08712576\n",
      "  0.17209485 -0.11530011  0.3001061  -0.17491244  0.00289185 -0.08275723\n",
      " -0.22543158  0.20476303 -0.08843    -0.01958277 -0.02004959 -0.17079861\n",
      "  0.04755206  0.18720582  0.05176255  0.29426867  0.01958344  0.21915723\n",
      " -0.10980161 -0.145906    0.0113205   0.00424046  0.05865817 -0.03594108\n",
      " -0.13094802 -0.1378171  -0.24617018 -0.1268371   0.10502639  0.19400929\n",
      "  0.15232468  0.04506044  0.14350578 -0.48185802 -0.02818404 -0.01860394\n",
      " -0.05000506 -0.30807832 -0.10456243  0.0257093   0.12498315 -0.09828909\n",
      "  0.10268021 -0.28319594 -0.06833513 -0.14615919 -0.17416708  0.14050812\n",
      " -0.10359866 -0.01918209  0.08823033  0.03648512 -0.20357198 -0.30430537\n",
      "  0.07118409  0.05454665 -0.08888408  0.10038734 -0.08364654  0.31722978\n",
      " -0.18425336 -0.20938808 -0.02222274  0.1385248  -0.31400883  0.03387902\n",
      " -0.33740884 -0.00949216  0.01707507  0.15753438 -0.08999281  0.20348296\n",
      " -0.06652186  0.08777104 -0.06384536  0.16524956 -0.05559482  0.12685153\n",
      " -0.14262456  0.17978656 -0.20203017  0.11083727 -0.22091407  0.08570595\n",
      " -0.07072766  0.0252392  -0.12693056  0.17575909  0.20671073 -0.12452949\n",
      "  0.0689192   0.0572672   0.12445319  0.06682308  0.06548328 -0.02737987\n",
      " -0.13022768  0.12914029  0.04158873  0.02285259 -0.12498538  0.15291409\n",
      " -0.19315861  0.26759273  0.08413626 -0.2578776  -0.02432962  0.1410868\n",
      " -0.23823388  0.22176994 -0.29634872 -0.13332953  0.23478429  0.07708928\n",
      "  0.13357405 -0.07298273  0.18831104  0.06185204 -0.04278954  0.01018809\n",
      " -0.0131656  -0.00692694  0.04277066  0.14226547  0.1986777  -0.06001034\n",
      "  0.05216086  0.24096759 -0.09638963 -0.2433003  -0.3197596  -0.07376845\n",
      " -0.10563748 -0.09533748  0.14864655  0.12805633  0.10883979  0.17154048\n",
      "  0.04166137 -0.20605247  0.07742418  0.27460375 -0.09567718  0.0529518\n",
      "  0.08346001 -0.12275457 -0.06956996 -0.01357019  0.193124    0.01651306\n",
      "  0.26205248 -0.11352757 -0.24045908  0.2487516   0.05216215  0.00100722\n",
      " -0.49352536 -0.00116536 -0.02579134  0.06401613 -0.03186079 -0.14246444\n",
      "  0.1199808  -0.22435902  0.11682706  0.13429494  0.30626783  0.04856699\n",
      "  0.03955849  0.11915123  0.00803401 -0.12906288 -0.3010525  -0.0802542\n",
      "  0.02067833 -0.24505228 -0.27133277 -0.14813244  0.12755254  0.0078851\n",
      "  0.02977147  0.16887292  0.12731762  0.21471715  0.09348936  0.12387765\n",
      "  0.22172083  0.08363779 -0.09680448 -0.02566773  0.05314594 -0.23149602\n",
      " -0.22144532 -0.1230736   0.00690347  0.28920302  0.03093608  0.01848126\n",
      " -0.11008179  0.00646533  0.04110506 -0.19172917  0.1964316   0.00807509\n",
      " -0.12609607  0.13004977 -0.10474847 -0.21228458 -0.00668698 -0.23278569\n",
      "  0.15063831 -0.376178   -0.13523805  0.11722081  0.06421185  0.18433936\n",
      " -0.25832403  0.07456038  0.13212314  0.00456054  0.0867366  -0.07873995\n",
      " -0.00830382  0.0766772  -0.08759835 -0.05996284  0.22604068 -0.18062793\n",
      "  0.11784752  0.05089577  0.29938343 -0.08010797 -0.03284654 -0.24306394\n",
      " -0.21360783  0.09004442 -0.04137025  0.08314529 -0.12340762  0.04622468\n",
      " -0.22344434  0.33720165 -0.07432142 -0.08724829 -0.20896351  0.18763754\n",
      " -0.11711308  0.27282894  0.26497668 -0.5469191   0.40079656 -0.15692241\n",
      " -0.12955484 -0.15010795 -0.32914576  0.3735894  -0.0608752   0.2434708\n",
      "  0.19723806  0.33021706  0.18715623 -0.05227461 -0.15424812 -0.11147025\n",
      "  0.01985486 -0.08433711 -0.0807545   0.04726468  0.10291076  0.28583813]\n"
     ]
    },
    {
     "name": "stderr",
     "output_type": "stream",
     "text": [
      "D:\\anaconda\\lib\\site-packages\\ipykernel_launcher.py:1: DeprecationWarning: Call to deprecated `__getitem__` (Method will be removed in 4.0.0, use self.wv.__getitem__() instead).\n",
      "  \"\"\"Entry point for launching an IPython kernel.\n"
     ]
    }
   ],
   "source": [
    "print(model['green chile'])"
   ]
  },
  {
   "cell_type": "code",
   "execution_count": 21,
   "metadata": {},
   "outputs": [
    {
     "name": "stdout",
     "output_type": "stream",
     "text": [
      "[-0.00949457  0.0362183   0.04616025 -0.06445879  0.00230063  0.09969711\n",
      "  0.05009166 -0.06958866  0.04022865 -0.04552774  0.10851721  0.03622462\n",
      "  0.09364624 -0.11328992 -0.0606028   0.05956559  0.03359988 -0.0134865\n",
      "  0.07475218 -0.05680403 -0.09019325 -0.1360806  -0.03348941 -0.05948436\n",
      "  0.06045002  0.02074012  0.08844453 -0.08111133 -0.04262146  0.04089339\n",
      "  0.09864538 -0.02565966  0.15906587 -0.05622394 -0.04599289 -0.08676864\n",
      " -0.0653168   0.02867664 -0.05663242 -0.08189032  0.01288544  0.00363039\n",
      "  0.09839349  0.03082085 -0.02366504  0.10944865  0.006965    0.12729828\n",
      "  0.02736    -0.17798431  0.0443503  -0.03630246 -0.01517211 -0.10538254\n",
      " -0.01295827 -0.02533765 -0.12007877 -0.04975316  0.08454844  0.08150944\n",
      "  0.03796144 -0.04662075 -0.03275313 -0.2495773  -0.15006101  0.08963182\n",
      " -0.00826241 -0.05841363 -0.06889158  0.01941449  0.1063216  -0.08864474\n",
      " -0.0172949  -0.18736193 -0.03025972 -0.04436461 -0.1701472   0.01596722\n",
      " -0.00145079 -0.00435568  0.01996997  0.01062589  0.02062586  0.10722149\n",
      " -0.05980067  0.01543575 -0.04320259  0.16642381 -0.07972074  0.16186833\n",
      " -0.12942754 -0.10714678 -0.0955179   0.08077053 -0.29434    -0.04166548\n",
      " -0.06858766  0.06933237 -0.00086504  0.04787094 -0.11292493  0.12019227\n",
      " -0.03403646  0.10480436 -0.07373159  0.11340696 -0.02612595  0.0285569\n",
      "  0.01415243  0.08355974 -0.12157439  0.0135886  -0.06963442  0.08351347\n",
      " -0.10338835  0.0027119   0.005471    0.07059463  0.1385818  -0.01554973\n",
      " -0.0049334   0.0269096  -0.04455363  0.03106544  0.00801196  0.06264958\n",
      " -0.01899937  0.09043743  0.05435951  0.19737676 -0.11845019  0.02348516\n",
      " -0.08922402  0.11068408  0.01101324 -0.05714334 -0.06237616  0.02587744\n",
      " -0.16331011  0.05111634 -0.09694295 -0.08778818  0.1308737  -0.08271513\n",
      "  0.01800998  0.00565975  0.06404785  0.1036164  -0.0905337  -0.00229096\n",
      "  0.01314832 -0.04919854  0.00643672 -0.02897969 -0.02213481 -0.01759723\n",
      " -0.01401579  0.01363108 -0.02898215 -0.04992983 -0.29471853  0.01176613\n",
      " -0.01583347  0.08127394  0.05519527  0.07425027 -0.0316365   0.04615082\n",
      "  0.08373136 -0.00476765  0.04494706  0.12402061 -0.04836391  0.08300845\n",
      " -0.0202437  -0.02768514 -0.08860353  0.02280891  0.10314038  0.0468636\n",
      "  0.06241146 -0.13679679 -0.16902462  0.10711423  0.08063938  0.01014077\n",
      " -0.13016431  0.06168747 -0.04975734 -0.05734139 -0.01416855 -0.05624634\n",
      "  0.027811   -0.10389633  0.10196067  0.07454437  0.17473412  0.08423875\n",
      "  0.01771081  0.07825635  0.03834008 -0.08846375 -0.1300018   0.02122317\n",
      " -0.02847683 -0.13572785 -0.03603282 -0.00935395  0.02445728  0.05726509\n",
      "  0.06442326  0.11077017 -0.01723593  0.0694525  -0.00903918  0.00978539\n",
      "  0.08342791  0.01001436 -0.10867447 -0.01179301 -0.02345971 -0.04129835\n",
      " -0.1231811  -0.0555201   0.09512621  0.13146178 -0.0684628   0.04187709\n",
      " -0.0292464   0.02438562  0.04557294 -0.03321884  0.02216108  0.02538886\n",
      " -0.08600482  0.03490735 -0.06904377 -0.05425306 -0.01540676 -0.06274465\n",
      "  0.07595368 -0.18136169 -0.09633403  0.06436336 -0.03733623 -0.06238617\n",
      " -0.08137611  0.09682651 -0.0331297  -0.02917462  0.03338142  0.03330117\n",
      "  0.04162972 -0.00875317  0.00315971 -0.04806222  0.16472116 -0.05568179\n",
      " -0.01691541  0.0422556   0.11022497  0.02268817  0.04855134 -0.07198586\n",
      " -0.01053282  0.04372304  0.01974171  0.02060452 -0.00468674  0.04877605\n",
      " -0.14720015  0.08417231  0.050161   -0.06071555 -0.05388331  0.07689384\n",
      " -0.00766758  0.00456582  0.10335062 -0.17638946  0.17617631 -0.14430027\n",
      " -0.02619004 -0.06638075 -0.06094731  0.16331859  0.03927047  0.07250121\n",
      "  0.0617509   0.08532368  0.03434244 -0.03673777 -0.11862882 -0.07495607\n",
      "  0.02619324  0.03570136 -0.01571091  0.10859028  0.02156045  0.0755796 ]\n"
     ]
    },
    {
     "name": "stderr",
     "output_type": "stream",
     "text": [
      "D:\\anaconda\\lib\\site-packages\\ipykernel_launcher.py:1: DeprecationWarning: Call to deprecated `__getitem__` (Method will be removed in 4.0.0, use self.wv.__getitem__() instead).\n",
      "  \"\"\"Entry point for launching an IPython kernel.\n"
     ]
    }
   ],
   "source": [
    "print(model['fat-free cheddar cheese'])"
   ]
  },
  {
   "cell_type": "code",
   "execution_count": 22,
   "metadata": {},
   "outputs": [
    {
     "name": "stderr",
     "output_type": "stream",
     "text": [
      "D:\\anaconda\\lib\\site-packages\\ipykernel_launcher.py:1: DeprecationWarning: Call to deprecated `__getitem__` (Method will be removed in 4.0.0, use self.wv.__getitem__() instead).\n",
      "  \"\"\"Entry point for launching an IPython kernel.\n"
     ]
    },
    {
     "data": {
      "text/plain": [
       "(300,)"
      ]
     },
     "execution_count": 22,
     "metadata": {},
     "output_type": "execute_result"
    }
   ],
   "source": [
    "model['fat-free cheddar cheese'].shape"
   ]
  },
  {
   "cell_type": "code",
   "execution_count": 23,
   "metadata": {},
   "outputs": [
    {
     "name": "stderr",
     "output_type": "stream",
     "text": [
      "D:\\anaconda\\lib\\site-packages\\ipykernel_launcher.py:1: DeprecationWarning: Call to deprecated `__getitem__` (Method will be removed in 4.0.0, use self.wv.__getitem__() instead).\n",
      "  \"\"\"Entry point for launching an IPython kernel.\n"
     ]
    },
    {
     "data": {
      "text/plain": [
       "numpy.ndarray"
      ]
     },
     "execution_count": 23,
     "metadata": {},
     "output_type": "execute_result"
    }
   ],
   "source": [
    "type(model['fat-free cheddar cheese'])"
   ]
  },
  {
   "cell_type": "code",
   "execution_count": 24,
   "metadata": {},
   "outputs": [
    {
     "name": "stderr",
     "output_type": "stream",
     "text": [
      "D:\\anaconda\\lib\\site-packages\\ipykernel_launcher.py:5: DeprecationWarning: Call to deprecated `__contains__` (Method will be removed in 4.0.0, use self.wv.__contains__() instead).\n",
      "  \"\"\"\n",
      "D:\\anaconda\\lib\\site-packages\\ipykernel_launcher.py:5: DeprecationWarning: Call to deprecated `__getitem__` (Method will be removed in 4.0.0, use self.wv.__getitem__() instead).\n",
      "  \"\"\"\n"
     ]
    },
    {
     "name": "stdout",
     "output_type": "stream",
     "text": [
      "前1000篇文章形成词向量花费21.07秒\n",
      "前2000篇文章形成词向量花费39.64秒\n",
      "前3000篇文章形成词向量花费58.81秒\n",
      "前4000篇文章形成词向量花费80.47秒\n",
      "前5000篇文章形成词向量花费101.15秒\n",
      "前6000篇文章形成词向量花费121.86秒\n",
      "前7000篇文章形成词向量花费142.98秒\n",
      "前8000篇文章形成词向量花费165.74秒\n",
      "前9000篇文章形成词向量花费184.70秒\n",
      "前10000篇文章形成词向量花费203.36秒\n",
      "前11000篇文章形成词向量花费222.09秒\n",
      "前12000篇文章形成词向量花费240.83秒\n",
      "前13000篇文章形成词向量花费259.80秒\n",
      "前14000篇文章形成词向量花费277.58秒\n",
      "前15000篇文章形成词向量花费292.46秒\n",
      "前16000篇文章形成词向量花费307.06秒\n",
      "前17000篇文章形成词向量花费321.48秒\n",
      "前18000篇文章形成词向量花费335.64秒\n",
      "前19000篇文章形成词向量花费347.93秒\n",
      "前20000篇文章形成词向量花费359.86秒\n",
      "前21000篇文章形成词向量花费371.76秒\n",
      "前22000篇文章形成词向量花费383.70秒\n",
      "前23000篇文章形成词向量花费395.58秒\n",
      "前24000篇文章形成词向量花费407.52秒\n",
      "前25000篇文章形成词向量花费419.56秒\n",
      "前26000篇文章形成词向量花费431.50秒\n",
      "前27000篇文章形成词向量花费443.42秒\n",
      "前28000篇文章形成词向量花费455.31秒\n",
      "前29000篇文章形成词向量花费467.25秒\n",
      "前30000篇文章形成词向量花费479.20秒\n",
      "前31000篇文章形成词向量花费491.43秒\n",
      "前32000篇文章形成词向量花费503.31秒\n",
      "前33000篇文章形成词向量花费515.23秒\n",
      "前34000篇文章形成词向量花费527.19秒\n",
      "前35000篇文章形成词向量花费539.06秒\n",
      "前36000篇文章形成词向量花费551.08秒\n",
      "前37000篇文章形成词向量花费563.03秒\n",
      "前38000篇文章形成词向量花费574.92秒\n",
      "前39000篇文章形成词向量花费586.90秒\n",
      "Total Time You Need To Get X:596.24秒\n"
     ]
    }
   ],
   "source": [
    "import time\n",
    "import pandas as pd\n",
    "import numpy as np\n",
    "def getVector_v2(cutWords, model):\n",
    "        vector_list = [ model[k] for k in cutWords if k in model]\n",
    "        vector_df = pd.DataFrame(vector_list)\n",
    "        cutWord_vector = vector_df.mean(axis=0).values\n",
    "        return cutWord_vector\n",
    " \n",
    "startTime = time.time()\n",
    "vector_list = []\n",
    "i = 0\n",
    "for cutWords in train['ingredients'][:]:\n",
    "        i += 1\n",
    "        if i % 1000 ==0:\n",
    "                print('前%d篇文章形成词向量花费%.2f秒' %(i, time.time()-startTime))\n",
    " \n",
    "        vector_list.append( getVector_v2(cutWords, model) )\n",
    "X = np.array(vector_list)\n",
    "print('Total Time You Need To Get X:%.2f秒' % (time.time() - startTime) )"
   ]
  },
  {
   "cell_type": "code",
   "execution_count": 25,
   "metadata": {},
   "outputs": [
    {
     "data": {
      "text/plain": [
       "array([[ 0.09724997,  0.09739946, -0.01579126, ...,  0.0686231 ,\n",
       "         0.11470233, -0.00717194],\n",
       "       [-0.00900684, -0.01902029, -0.0967633 , ..., -0.03399816,\n",
       "         0.06904195,  0.03049369],\n",
       "       [-0.00089942,  0.03514317, -0.1091911 , ...,  0.04595183,\n",
       "         0.11071311,  0.09322056],\n",
       "       ...,\n",
       "       [-0.00846277, -0.02487125, -0.04110322, ..., -0.05495912,\n",
       "         0.0359963 ,  0.08240642],\n",
       "       [ 0.03773035, -0.00977357, -0.10278422, ..., -0.01181576,\n",
       "         0.08347534,  0.17178231],\n",
       "       [ 0.02006595,  0.14127056, -0.03379859, ...,  0.12411941,\n",
       "         0.06384745,  0.11633403]])"
      ]
     },
     "execution_count": 25,
     "metadata": {},
     "output_type": "execute_result"
    }
   ],
   "source": [
    "X"
   ]
  },
  {
   "cell_type": "code",
   "execution_count": 26,
   "metadata": {},
   "outputs": [],
   "source": [
    "from sklearn.model_selection import train_test_split,GridSearchCV\n",
    "from sklearn.naive_bayes import MultinomialNB \n",
    "from sklearn.model_selection import cross_val_score"
   ]
  },
  {
   "cell_type": "code",
   "execution_count": 27,
   "metadata": {},
   "outputs": [
    {
     "data": {
      "text/plain": [
       "['romaine lettuce',\n",
       " 'black olives',\n",
       " 'grape tomatoes',\n",
       " 'garlic',\n",
       " 'pepper',\n",
       " 'purple onion',\n",
       " 'seasoning',\n",
       " 'garbanzo beans',\n",
       " 'feta cheese crumbles']"
      ]
     },
     "execution_count": 27,
     "metadata": {},
     "output_type": "execute_result"
    }
   ],
   "source": [
    "train['ingredients'][0]"
   ]
  },
  {
   "cell_type": "code",
   "execution_count": 28,
   "metadata": {},
   "outputs": [
    {
     "name": "stderr",
     "output_type": "stream",
     "text": [
      "D:\\anaconda\\lib\\site-packages\\ipykernel_launcher.py:1: DeprecationWarning: Call to deprecated `__getitem__` (Method will be removed in 4.0.0, use self.wv.__getitem__() instead).\n",
      "  \"\"\"Entry point for launching an IPython kernel.\n"
     ]
    },
    {
     "data": {
      "text/plain": [
       "array([ 0.09274483,  0.12376738, -0.1261521 , -0.20065008, -0.00312061,\n",
       "        0.07870319, -0.0431837 , -0.29415348,  0.14754783,  0.20744376,\n",
       "        0.0519923 ,  0.05356133,  0.3674951 , -0.08303719,  0.16284953,\n",
       "        0.04723286,  0.16267332, -0.09941372,  0.06024611,  0.20911066,\n",
       "       -0.23812857, -0.0669966 ,  0.00060459, -0.2819155 ,  0.26767635,\n",
       "       -0.20833051,  0.18874931, -0.05059673, -0.13279115,  0.2654979 ,\n",
       "        0.11455417,  0.1663319 ,  0.405526  , -0.00200046, -0.09359349,\n",
       "        0.06338648, -0.05019826,  0.11823484, -0.16442074, -0.3601868 ,\n",
       "       -0.19789569, -0.05062525,  0.39830425,  0.13938725,  0.06264462,\n",
       "        0.38122073,  0.04412154,  0.09931935,  0.16952063, -0.26840416,\n",
       "        0.20433898,  0.10618153,  0.01738429, -0.12522414,  0.2079432 ,\n",
       "       -0.06613404, -0.17287128, -0.20987806,  0.206304  ,  0.4272385 ,\n",
       "       -0.01248276,  0.05969938,  0.02639608, -0.11509161, -0.28665525,\n",
       "        0.2130745 ,  0.2237591 ,  0.03054644, -0.06177505, -0.0543244 ,\n",
       "       -0.01295449,  0.08756562, -0.17461297, -0.02231163,  0.1706143 ,\n",
       "       -0.05988687, -0.12540163,  0.06561935,  0.24643023,  0.05828682,\n",
       "       -0.07676903, -0.02219333, -0.08672014,  0.15318313, -0.26096642,\n",
       "        0.18290825, -0.0235491 ,  0.03105804, -0.35325763,  0.23317043,\n",
       "       -0.10852838, -0.08302663, -0.21987252,  0.03539176, -0.04509945,\n",
       "        0.08733416,  0.06215223,  0.08763039, -0.02024294, -0.01781048,\n",
       "       -0.06486522,  0.2288816 , -0.02301024, -0.06016854, -0.12078774,\n",
       "        0.27674872, -0.1352166 ,  0.10797074,  0.08063808,  0.06744812,\n",
       "       -0.10296143,  0.08857994, -0.03587646,  0.09232941,  0.0743416 ,\n",
       "       -0.2031355 , -0.03396717,  0.23717949,  0.0258472 , -0.0387206 ,\n",
       "        0.0685906 ,  0.19384068, -0.11497165, -0.11924458, -0.12692693,\n",
       "       -0.16477308, -0.23783503,  0.08939226,  0.04147793,  0.07806668,\n",
       "       -0.24198048,  0.0146346 ,  0.05888626,  0.13642801, -0.22940548,\n",
       "       -0.12560642, -0.10913942, -0.03686425, -0.12471751, -0.21925521,\n",
       "       -0.23602599,  0.03641616,  0.0315127 , -0.2845831 ,  0.03813567,\n",
       "        0.09790777, -0.03698042,  0.18696608, -0.19800182, -0.00369865,\n",
       "       -0.17131142, -0.19694859,  0.01886223, -0.4930154 , -0.17120275,\n",
       "       -0.14455329, -0.00597437,  0.06088857, -0.14740762, -0.11585665,\n",
       "       -0.36969826,  0.02027943,  0.07419933,  0.16839604, -0.05341271,\n",
       "       -0.10744826,  0.08115015, -0.05865984, -0.0064721 ,  0.2525457 ,\n",
       "       -0.08371674,  0.24169768, -0.03865038, -0.09238578, -0.10869595,\n",
       "        0.12261295, -0.02889165, -0.15565765, -0.00702184,  0.33699414,\n",
       "        0.1271605 , -0.18564604, -0.03642525,  0.23302294,  0.40584427,\n",
       "       -0.28211212, -0.02962978,  0.00178544, -0.22697914,  0.18221535,\n",
       "        0.01564182, -0.3880112 ,  0.0427266 , -0.25737965,  0.13583693,\n",
       "        0.34963322,  0.3081441 ,  0.0376134 ,  0.18625787,  0.22094505,\n",
       "        0.24545078, -0.14778954, -0.07724281,  0.09061573,  0.02388172,\n",
       "       -0.25696048,  0.02368587, -0.1379098 ,  0.03441553, -0.07024529,\n",
       "        0.00912098,  0.11493859,  0.08935782,  0.0822074 ,  0.03074136,\n",
       "       -0.08377858,  0.05436109,  0.14957884,  0.03719864,  0.03094307,\n",
       "       -0.23575352,  0.3343479 , -0.0797127 , -0.06741481,  0.07278993,\n",
       "        0.19835316, -0.43124628,  0.067478  ,  0.07469182, -0.05361896,\n",
       "        0.06367759, -0.28495073, -0.13883696, -0.08286847,  0.00498805,\n",
       "       -0.05676977, -0.06356356, -0.25988975,  0.13822949,  0.1592306 ,\n",
       "       -0.1217424 , -0.2813481 , -0.07841136, -0.09167337, -0.06409239,\n",
       "       -0.12342417,  0.02962499,  0.32775766, -0.18707514,  0.21878472,\n",
       "        0.10814641, -0.15268266, -0.00796018, -0.07778307,  0.12037186,\n",
       "        0.04918642,  0.09047003, -0.08854772, -0.19484861,  0.18063422,\n",
       "        0.12196182, -0.05552095,  0.2811287 ,  0.08814596, -0.01436665,\n",
       "        0.28729445,  0.03980134, -0.09920657, -0.04991879,  0.06451583,\n",
       "       -0.44262204,  0.04752335, -0.01106074, -0.10007042, -0.41975635,\n",
       "        0.10522433, -0.07142956,  0.0406098 ,  0.01634113, -0.14435819,\n",
       "        0.17198056,  0.03555057, -0.24413602, -0.14154378,  0.04014975,\n",
       "        0.18557133,  0.27401695,  0.28383562,  0.1711407 ,  0.0006422 ,\n",
       "       -0.16806144, -0.01648106, -0.39111677, -0.0854739 ,  0.11374316,\n",
       "        0.34682953, -0.11267953,  0.08730316,  0.25653154, -0.05678372],\n",
       "      dtype=float32)"
      ]
     },
     "execution_count": 28,
     "metadata": {},
     "output_type": "execute_result"
    }
   ],
   "source": [
    "model['romaine lettuce']"
   ]
  },
  {
   "cell_type": "code",
   "execution_count": 29,
   "metadata": {},
   "outputs": [
    {
     "data": {
      "text/plain": [
       "array([-9.00684411e-03, -1.90202878e-02, -9.67632950e-02, -4.33241516e-02,\n",
       "        2.68288706e-02,  2.21848602e-01, -1.04838662e-01, -9.41997264e-02,\n",
       "       -4.70209602e-02,  9.04749927e-02,  8.71539838e-02,  7.91386149e-02,\n",
       "        2.06625658e-02, -9.04374598e-02,  3.80620946e-02,  9.97894486e-04,\n",
       "       -3.31123162e-02,  4.14768147e-02,  2.97357474e-02,  5.98751416e-02,\n",
       "       -6.45601194e-02, -7.70275027e-02, -6.88025364e-03, -1.66933795e-01,\n",
       "        6.51540235e-04, -7.29148457e-02, -8.92853181e-02, -1.85123155e-01,\n",
       "        1.71462008e-02, -6.77165765e-02, -1.04265467e-01,  8.52429294e-02,\n",
       "        6.68578564e-03,  1.21273324e-01,  7.08720417e-02, -9.42903886e-02,\n",
       "       -3.79898684e-02,  4.58147796e-02,  1.56169938e-02,  2.03089708e-02,\n",
       "        2.17019194e-02, -4.43085459e-02, -3.54582203e-03, -3.09236468e-02,\n",
       "        7.07254905e-02,  8.23317987e-02, -1.36310654e-01, -1.77968119e-02,\n",
       "       -6.40337476e-02, -2.82641854e-02,  5.64633327e-02,  9.14306934e-02,\n",
       "        8.99874605e-03,  5.21855421e-02, -4.06130386e-03,  4.34755031e-02,\n",
       "       -1.07089505e-01, -1.71539987e-02, -7.07418850e-02,  2.93115853e-01,\n",
       "       -8.24934546e-02, -8.32136790e-02, -4.31551886e-03, -1.18095104e-01,\n",
       "       -1.19942615e-01,  1.11195343e-01,  5.50450282e-02,  2.64946841e-02,\n",
       "       -2.47848318e-02,  4.50508758e-03,  1.52121222e-02, -1.50829083e-02,\n",
       "        1.43240471e-02, -8.79800898e-02,  3.14728092e-02, -7.97138148e-02,\n",
       "       -1.40569306e-01,  1.31503224e-01,  2.10868467e-02, -1.76668505e-01,\n",
       "       -7.68200088e-02,  1.62229832e-01, -8.96833826e-02,  1.66300168e-01,\n",
       "        1.20272893e-01, -7.41756982e-02,  1.44412393e-02,  9.84962449e-02,\n",
       "       -5.09335529e-02,  1.91266595e-01, -1.76604723e-01, -4.67624481e-02,\n",
       "        1.58998578e-03,  6.42344093e-02, -6.84168087e-02, -5.46596117e-02,\n",
       "       -5.43972211e-02, -1.05895884e-01,  3.21619939e-02,  1.04618927e-01,\n",
       "        7.52961449e-02,  7.62589823e-02, -8.84972269e-02,  1.08288153e-01,\n",
       "       -6.38460196e-02,  1.12355746e-01,  8.76029728e-02, -1.14300610e-01,\n",
       "        5.18043576e-02,  8.42534863e-02,  1.58864871e-01, -4.29805009e-02,\n",
       "        1.08543191e-02,  2.67153064e-01, -6.25909902e-02, -8.24699475e-02,\n",
       "       -3.25355078e-03,  2.86877717e-02,  1.03558708e-01,  5.94317198e-02,\n",
       "        9.06530470e-02,  2.88002763e-02,  1.48827699e-02,  2.56732369e-02,\n",
       "       -1.10393944e-01,  1.92639488e-01, -1.69507471e-01, -6.25251554e-02,\n",
       "        7.47546970e-02,  2.02393337e-01, -5.98083731e-02, -2.32310378e-02,\n",
       "       -1.49725602e-01,  1.58560495e-01, -1.19911160e-01, -7.44741909e-02,\n",
       "        4.93493827e-02,  1.75082325e-01, -7.07315921e-02, -1.13685216e-02,\n",
       "        1.77098201e-02,  6.08126114e-02, -1.09059801e-01, -1.07744797e-02,\n",
       "       -4.52632084e-02,  2.55336064e-02, -2.56421110e-02,  8.54395276e-02,\n",
       "       -1.78433023e-02, -4.70974303e-02, -7.19756057e-02,  2.38425035e-02,\n",
       "        6.21409359e-02,  9.28274251e-02, -1.32802278e-02, -1.03473443e-01,\n",
       "       -1.09171034e-01,  1.36571541e-01, -9.74719049e-03, -6.11532488e-03,\n",
       "       -1.05425438e-01,  2.55133974e-02, -3.45173444e-02, -3.09218907e-02,\n",
       "       -7.48166306e-02,  6.02004269e-02, -1.66149073e-02,  5.19723209e-02,\n",
       "       -5.25807792e-02,  1.77012180e-02, -1.28534837e-01,  5.53216356e-02,\n",
       "       -1.02017404e-02, -4.92038698e-02,  1.43570108e-01,  2.64818733e-02,\n",
       "       -1.51686038e-02,  1.78196776e-02,  2.68234053e-02, -3.44346687e-02,\n",
       "        5.99102750e-02, -9.17214761e-02,  8.29595056e-05,  4.82473910e-02,\n",
       "        8.49307200e-02, -3.34221928e-02, -1.70002719e-02, -1.16136312e-01,\n",
       "        1.20026885e-02, -8.01343334e-02, -6.25869188e-02, -6.68050775e-02,\n",
       "        1.15766454e-01, -3.24522209e-02, -7.64231565e-02,  1.27824265e-01,\n",
       "        9.91854080e-02, -1.36268039e-01,  1.05816579e-02,  5.29108606e-02,\n",
       "        1.79324570e-03, -2.65281150e-02, -1.44967493e-01, -5.51159738e-02,\n",
       "       -1.15630884e-01, -1.03544999e-01,  1.24047861e-01, -1.53780315e-02,\n",
       "       -7.79199312e-03,  4.08345402e-03,  3.41473209e-02,  6.98431087e-02,\n",
       "        6.30829261e-02, -4.50780169e-02,  1.28929881e-01,  2.11260018e-01,\n",
       "       -7.10665954e-02,  5.84622767e-03, -6.33536719e-02, -5.58017817e-02,\n",
       "        2.09790348e-02, -9.59992267e-02, -4.32175207e-02, -1.04818285e-01,\n",
       "       -6.68241067e-02,  7.40485559e-02, -2.28734865e-02, -1.11906575e-01,\n",
       "       -5.73478741e-03,  1.07732314e-01,  4.16706164e-02, -9.27711658e-02,\n",
       "        4.54054237e-02,  1.01259792e-01, -6.91591649e-02, -4.37071628e-02,\n",
       "       -1.13309516e-01, -1.85922161e-02, -2.88369601e-02, -1.38921668e-01,\n",
       "       -2.56672578e-02, -1.31744000e-01,  6.24971099e-02,  5.82093999e-03,\n",
       "        1.05722680e-02, -8.99660132e-02, -4.12551087e-02,  1.56883797e-01,\n",
       "       -3.80521227e-02,  3.36811028e-02,  1.31428898e-01, -6.89754276e-02,\n",
       "       -4.25038016e-02,  8.73178779e-02,  8.90631229e-02, -6.47184788e-02,\n",
       "        2.77223315e-01, -1.24601831e-02,  4.68887981e-02, -6.68288904e-02,\n",
       "       -2.70486543e-03,  4.23061553e-02,  1.23967635e-01,  6.25804157e-02,\n",
       "       -5.35026924e-02,  1.32607703e-01, -5.47339214e-02,  1.26454971e-02,\n",
       "       -2.48690064e-02,  8.34434354e-02,  1.89798540e-02,  1.05888450e-01,\n",
       "       -4.91218662e-02, -1.80484928e-01, -3.23653241e-02,  1.46442073e-01,\n",
       "        2.46275352e-01, -2.33152563e-02,  1.65096916e-01, -2.20092265e-01,\n",
       "       -5.97971199e-02, -5.02873842e-02, -2.29857189e-01,  4.24829278e-03,\n",
       "       -1.12365436e-01,  1.55894819e-01,  1.91632382e-02,  3.97963201e-02,\n",
       "        1.08472912e-01,  1.31502615e-01,  1.17805324e-01,  6.68833638e-02,\n",
       "       -1.49708878e-01,  9.82132835e-02, -1.64054466e-02, -1.09017309e-01,\n",
       "        3.64876877e-02, -3.39981622e-02,  6.90419545e-02,  3.04936921e-02])"
      ]
     },
     "execution_count": 29,
     "metadata": {},
     "output_type": "execute_result"
    }
   ],
   "source": [
    "X[1]"
   ]
  },
  {
   "cell_type": "code",
   "execution_count": 30,
   "metadata": {},
   "outputs": [
    {
     "data": {
      "text/plain": [
       "array([ 1.38864592e-02,  6.85689238e-03,  2.31217281e-02, -1.11336240e-01,\n",
       "       -6.60384074e-02,  3.95093736e-01,  3.29847156e-02, -1.54986042e-01,\n",
       "       -3.07915378e-03,  7.11079690e-02,  7.95874614e-02,  4.76563214e-02,\n",
       "        1.00890227e-01, -1.03238692e-01,  1.02388993e-01,  4.79107923e-02,\n",
       "        4.07975284e-02,  2.69384135e-02,  2.09157443e-02,  2.68631837e-02,\n",
       "       -2.19928016e-01,  1.09782428e-03, -1.21701246e-02, -8.89462119e-02,\n",
       "        7.89842897e-02, -1.04551175e-01,  1.77714922e-01, -8.26616443e-02,\n",
       "        1.86299901e-02,  1.67024683e-01,  1.92638016e-01,  9.59254480e-02,\n",
       "        8.50246272e-02,  5.76254701e-02, -3.66296538e-02, -1.17824799e-02,\n",
       "       -1.42713875e-01,  4.60733215e-02, -2.24648210e-01,  1.04392737e-01,\n",
       "       -5.67198950e-02, -1.12743156e-01,  1.86816101e-02, -6.95742897e-02,\n",
       "       -1.85038132e-02,  2.15313927e-02, -8.67233264e-02,  1.11046753e-01,\n",
       "       -3.51053095e-02, -1.02961908e-01,  1.09588948e-01, -6.64860636e-02,\n",
       "       -1.06445947e-01, -1.71637578e-02, -1.03601781e-02,  1.51851955e-01,\n",
       "       -7.35151591e-02, -1.55554395e-02,  4.78020747e-02,  1.68100695e-01,\n",
       "        5.52700658e-02, -4.11562117e-02,  3.41512429e-02, -2.89488941e-01,\n",
       "       -5.97125563e-02,  4.87657661e-03,  2.89563670e-02,  1.02171579e-01,\n",
       "       -1.89459984e-02,  1.71573496e-01, -2.20399702e-02,  5.38973498e-03,\n",
       "        5.08364369e-02, -8.37432657e-03,  1.48155977e-02, -8.74377565e-02,\n",
       "       -1.43946100e-01,  4.91593871e-02, -7.00929487e-02, -1.65591632e-02,\n",
       "        3.43698779e-03,  1.35732577e-01,  3.44507706e-02,  6.22542682e-02,\n",
       "        1.33284793e-01, -1.15620114e-02,  6.69987683e-02,  1.30976187e-01,\n",
       "       -1.62490740e-02,  1.72514928e-01, -1.01684184e-01, -8.40996661e-02,\n",
       "       -3.74020994e-02,  9.80408253e-02, -1.32382232e-01, -1.18099726e-01,\n",
       "       -7.64546019e-02, -4.99834664e-02, -8.66941926e-02,  8.57006079e-02,\n",
       "        1.18378121e-01,  4.11349889e-02,  9.65723461e-02,  1.50096860e-01,\n",
       "       -1.27957180e-02,  3.73560333e-02, -8.71483345e-02,  2.46583819e-02,\n",
       "        4.51099264e-02,  3.54908735e-02,  1.09550376e-01,  2.69154236e-02,\n",
       "       -4.95004728e-02,  1.15450695e-01, -1.01943890e-01, -3.38499621e-02,\n",
       "        3.80699492e-02,  1.74594130e-03,  2.34752256e-02,  2.17549352e-02,\n",
       "        1.13477813e-01,  1.64803422e-01,  8.85541923e-03, -1.26669593e-02,\n",
       "       -5.86790736e-02, -1.57308299e-02, -8.79176501e-02, -7.81675659e-02,\n",
       "        1.62555985e-01,  1.02988855e-01, -2.30161815e-02,  1.01423228e-01,\n",
       "       -6.67638943e-02,  1.61191620e-01, -9.09032362e-02, -1.84275551e-01,\n",
       "       -2.18139743e-03,  1.43463103e-01, -2.40846088e-02,  1.75063361e-02,\n",
       "       -1.96746340e-02,  2.16589004e-01, -6.94619189e-02, -3.84004620e-02,\n",
       "        1.50170944e-02,  4.74441209e-02,  8.16489424e-02,  1.76119993e-01,\n",
       "       -1.31054870e-01, -1.86711995e-02, -1.50544403e-01, -6.47112061e-03,\n",
       "        6.75306992e-03, -1.69191868e-01, -6.23111653e-02, -4.07856181e-02,\n",
       "       -4.15779531e-02,  4.71093976e-02, -5.90839490e-02, -1.04595094e-01,\n",
       "       -5.49249591e-02,  3.17483311e-02, -5.09052879e-02,  8.99999470e-02,\n",
       "        1.53623038e-02,  4.37637731e-02,  2.07387289e-01,  4.62444833e-02,\n",
       "       -7.15709948e-02,  2.64112010e-02,  2.16236911e-02,  1.56048827e-01,\n",
       "       -4.19124914e-02, -3.64992721e-02, -4.72536208e-02, -2.17848223e-02,\n",
       "        4.91676128e-02, -1.10347934e-01, -1.63082181e-01, -2.23518483e-02,\n",
       "        7.59135576e-02,  1.09257540e-01, -1.22374419e-01,  1.00850853e-01,\n",
       "        2.46983700e-01, -1.78985553e-02, -1.27778765e-01, -1.26981095e-01,\n",
       "        1.34608824e-01,  3.76109310e-03, -7.91640430e-03, -8.99239918e-03,\n",
       "        8.45388972e-02, -7.63086030e-02, -8.72326511e-02,  1.05827635e-01,\n",
       "       -1.05205090e-02, -1.06176337e-01,  2.38424695e-02,  1.95895634e-01,\n",
       "        1.70071576e-01, -8.92548108e-02, -1.29318121e-01,  6.93149937e-02,\n",
       "        8.75156275e-02, -5.98190051e-02,  1.71441567e-01,  1.32436919e-02,\n",
       "        7.03797881e-02,  1.06466049e-01,  8.77860125e-02,  5.19969224e-02,\n",
       "        5.82826814e-02, -6.39555165e-02,  5.96414931e-02,  4.17625762e-02,\n",
       "        6.85929313e-02,  1.98373379e-03,  6.07591640e-02,  9.99617949e-02,\n",
       "        9.00949972e-04,  5.17265091e-02, -1.24108068e-01, -1.32252247e-01,\n",
       "        8.99646087e-03,  1.34148009e-02, -1.82666276e-01, -4.94091939e-03,\n",
       "        4.07220826e-02,  3.99626370e-02,  1.93362392e-02,  1.65252884e-02,\n",
       "       -1.04960111e-01,  7.55528783e-02, -3.96105784e-03,  2.77084646e-02,\n",
       "        5.55639585e-02, -4.18108857e-02, -5.96112848e-02, -5.14548132e-02,\n",
       "       -9.20468797e-02, -7.12043588e-02,  1.94231073e-03, -5.04273725e-02,\n",
       "        1.22361701e-02,  1.19385836e-01,  2.89283226e-02,  1.98868556e-01,\n",
       "       -1.42825504e-01,  1.34248508e-01, -1.39403592e-02, -1.59200421e-01,\n",
       "       -1.06869866e-01, -1.42712743e-01,  1.65110187e-03, -9.51653409e-02,\n",
       "        1.02064702e-01,  3.06888937e-02,  8.23601040e-02, -7.10501794e-02,\n",
       "        2.23940299e-02, -8.09921894e-02,  1.16886317e-01,  1.09510875e-01,\n",
       "       -1.71854816e-01, -1.83113975e-04,  4.82327454e-02, -1.58505566e-01,\n",
       "        4.11930144e-02,  8.26010667e-04, -1.34415018e-01,  1.12817681e-01,\n",
       "       -2.56431628e-02, -2.29841530e-01, -4.95528816e-02,  1.20392729e-02,\n",
       "        1.56576095e-01,  2.09195216e-01,  9.36014259e-02, -2.06124478e-01,\n",
       "        2.38868987e-01, -7.37818690e-02, -9.04743004e-02, -5.09219941e-02,\n",
       "       -1.14281038e-01,  3.62892835e-02, -1.12922190e-02,  7.97840569e-02,\n",
       "        1.65749272e-01,  6.60785892e-02,  1.30391094e-01, -7.74522783e-02,\n",
       "       -2.20063876e-01, -3.08257580e-02,  8.30813620e-02, -8.57230343e-02,\n",
       "        5.48764753e-03,  1.66348781e-02,  9.31480707e-02,  3.80052368e-02])"
      ]
     },
     "execution_count": 30,
     "metadata": {},
     "output_type": "execute_result"
    }
   ],
   "source": [
    "X[1800]"
   ]
  },
  {
   "cell_type": "code",
   "execution_count": 32,
   "metadata": {},
   "outputs": [
    {
     "name": "stderr",
     "output_type": "stream",
     "text": [
      "D:\\anaconda\\lib\\site-packages\\sklearn\\linear_model\\logistic.py:432: FutureWarning: Default solver will be changed to 'lbfgs' in 0.22. Specify a solver to silence this warning.\n",
      "  FutureWarning)\n",
      "D:\\anaconda\\lib\\site-packages\\sklearn\\linear_model\\logistic.py:469: FutureWarning: Default multi_class will be changed to 'auto' in 0.22. Specify the multi_class option to silence this warning.\n",
      "  \"this warning.\", FutureWarning)\n"
     ]
    },
    {
     "data": {
      "text/plain": [
       "0.7294058493254002"
      ]
     },
     "execution_count": 32,
     "metadata": {},
     "output_type": "execute_result"
    }
   ],
   "source": [
    "from sklearn.linear_model import LogisticRegression\n",
    "from sklearn.model_selection import train_test_split\n",
    "train_X, test_X, train_y, test_y = train_test_split(X, train['label'], test_size=0.3, random_state=0)\n",
    " \n",
    "logistic_model = LogisticRegression()\n",
    "logistic_model.fit(train_X, train_y)\n",
    "logistic_model.score(test_X, test_y)"
   ]
  },
  {
   "cell_type": "code",
   "execution_count": 33,
   "metadata": {},
   "outputs": [
    {
     "data": {
      "text/plain": [
       "0.569177909997486"
      ]
     },
     "execution_count": 33,
     "metadata": {},
     "output_type": "execute_result"
    }
   ],
   "source": [
    "from sklearn.model_selection import train_test_split,GridSearchCV\n",
    "from sklearn.naive_bayes import GaussianNB \n",
    "from sklearn.model_selection import cross_val_score\n",
    "NB_model = GaussianNB()\n",
    "NB_model.fit(train_X, train_y)\n",
    "NB_model.score(test_X, test_y)"
   ]
  },
  {
   "cell_type": "code",
   "execution_count": 34,
   "metadata": {},
   "outputs": [
    {
     "data": {
      "text/plain": [
       "(300,)"
      ]
     },
     "execution_count": 34,
     "metadata": {},
     "output_type": "execute_result"
    }
   ],
   "source": [
    "X[1].shape"
   ]
  },
  {
   "cell_type": "code",
   "execution_count": 35,
   "metadata": {},
   "outputs": [
    {
     "name": "stdout",
     "output_type": "stream",
     "text": [
      "在测试集上的准确率： 0.739881002262633\n",
      "选择最好的模型是： KNeighborsClassifier(algorithm='auto', leaf_size=30, metric='minkowski',\n",
      "                     metric_params=None, n_jobs=None, n_neighbors=10, p=2,\n",
      "                     weights='uniform')\n",
      "每个超参数每次交叉验证的结果： {'mean_fit_time': array([0.64061992, 0.62814035, 0.64532747]), 'std_fit_time': array([0.02656028, 0.00624692, 0.04531246]), 'mean_score_time': array([29.99573081, 30.32341955, 31.79826422]), 'std_score_time': array([0.83617404, 0.12674316, 0.59661535]), 'param_n_neighbors': masked_array(data=[3, 5, 10],\n",
      "             mask=[False, False, False],\n",
      "       fill_value='?',\n",
      "            dtype=object), 'params': [{'n_neighbors': 3}, {'n_neighbors': 5}, {'n_neighbors': 10}], 'split0_test_score': array([0.72037236, 0.72932331, 0.7311135 ]), 'split1_test_score': array([0.690681  , 0.70824373, 0.71935484]), 'split2_test_score': array([0.69641577, 0.71326165, 0.72724014]), 'split3_test_score': array([0.71402942, 0.72766416, 0.7334051 ]), 'split4_test_score': array([0.71859296, 0.7275664 , 0.73115578]), 'split5_test_score': array([0.70869253, 0.72988506, 0.73527299]), 'split6_test_score': array([0.71772744, 0.72419993, 0.73642575]), 'split7_test_score': array([0.68862491, 0.70590353, 0.70734341]), 'split8_test_score': array([0.70435722, 0.71516024, 0.72380266]), 'split9_test_score': array([0.71927928, 0.73621622, 0.73873874]), 'mean_test_score': array([0.70787687, 0.72174132, 0.72838619]), 'std_test_score': array([0.01160502, 0.00977778, 0.00897221]), 'rank_test_score': array([3, 2, 1])}\n"
     ]
    }
   ],
   "source": [
    "from sklearn.model_selection import train_test_split\n",
    "from sklearn.neighbors import KNeighborsClassifier\n",
    "knn_model = KNeighborsClassifier()\n",
    "param = {\"n_neighbors\": [3,5,10]}\n",
    "gc = GridSearchCV(knn_model,param_grid=param ,cv=10)\n",
    "gc.fit(train_X, train_y)\n",
    "print(\"在测试集上的准确率：\",gc.score(test_X, test_y))\n",
    "print(\"选择最好的模型是：\",gc.best_estimator_)\n",
    "print(\"每个超参数每次交叉验证的结果：\",gc.cv_results_)"
   ]
  },
  {
   "cell_type": "code",
   "execution_count": 36,
   "metadata": {},
   "outputs": [
    {
     "name": "stdout",
     "output_type": "stream",
     "text": [
      "预测准确率： 0.738707785133663\n",
      "查看选择的参数模型： {'max_depth': 30, 'n_estimators': 800}\n"
     ]
    }
   ],
   "source": [
    "from sklearn.ensemble import RandomForestClassifier\n",
    "param = {\"n_estimators\":[120,200,300,500,800,1200],\"max_depth\":[5,8,15,25,30]}\n",
    "rf = RandomForestClassifier()\n",
    "gc = GridSearchCV(rf,param_grid=param,cv=2)\n",
    "gc.fit(train_X, train_y)\n",
    "print(\"预测准确率：\",gc.score(test_X, test_y))\n",
    "print(\"查看选择的参数模型：\",gc.best_params_)"
   ]
  },
  {
   "cell_type": "code",
   "execution_count": 37,
   "metadata": {},
   "outputs": [],
   "source": [
    "from sklearn.multiclass import OneVsRestClassifier\n",
    "from sklearn.svm import LinearSVC\n",
    "from sklearn.model_selection import cross_val_score"
   ]
  },
  {
   "cell_type": "code",
   "execution_count": 38,
   "metadata": {},
   "outputs": [
    {
     "data": {
      "text/plain": [
       "0.7361937484287271"
      ]
     },
     "execution_count": 38,
     "metadata": {},
     "output_type": "execute_result"
    }
   ],
   "source": [
    "svc_model = LinearSVC()\n",
    "svc_model.fit(train_X, train_y)\n",
    "svc_model.score(test_X, test_y)"
   ]
  },
  {
   "cell_type": "code",
   "execution_count": 39,
   "metadata": {},
   "outputs": [
    {
     "name": "stderr",
     "output_type": "stream",
     "text": [
      "D:\\anaconda\\lib\\site-packages\\sklearn\\svm\\base.py:929: ConvergenceWarning: Liblinear failed to converge, increase the number of iterations.\n",
      "  \"the number of iterations.\", ConvergenceWarning)\n",
      "D:\\anaconda\\lib\\site-packages\\sklearn\\svm\\base.py:929: ConvergenceWarning: Liblinear failed to converge, increase the number of iterations.\n",
      "  \"the number of iterations.\", ConvergenceWarning)\n",
      "D:\\anaconda\\lib\\site-packages\\sklearn\\svm\\base.py:929: ConvergenceWarning: Liblinear failed to converge, increase the number of iterations.\n",
      "  \"the number of iterations.\", ConvergenceWarning)\n",
      "D:\\anaconda\\lib\\site-packages\\sklearn\\svm\\base.py:929: ConvergenceWarning: Liblinear failed to converge, increase the number of iterations.\n",
      "  \"the number of iterations.\", ConvergenceWarning)\n",
      "D:\\anaconda\\lib\\site-packages\\sklearn\\svm\\base.py:929: ConvergenceWarning: Liblinear failed to converge, increase the number of iterations.\n",
      "  \"the number of iterations.\", ConvergenceWarning)\n",
      "D:\\anaconda\\lib\\site-packages\\sklearn\\svm\\base.py:929: ConvergenceWarning: Liblinear failed to converge, increase the number of iterations.\n",
      "  \"the number of iterations.\", ConvergenceWarning)\n",
      "D:\\anaconda\\lib\\site-packages\\sklearn\\svm\\base.py:929: ConvergenceWarning: Liblinear failed to converge, increase the number of iterations.\n",
      "  \"the number of iterations.\", ConvergenceWarning)\n",
      "D:\\anaconda\\lib\\site-packages\\sklearn\\svm\\base.py:929: ConvergenceWarning: Liblinear failed to converge, increase the number of iterations.\n",
      "  \"the number of iterations.\", ConvergenceWarning)\n",
      "D:\\anaconda\\lib\\site-packages\\sklearn\\svm\\base.py:929: ConvergenceWarning: Liblinear failed to converge, increase the number of iterations.\n",
      "  \"the number of iterations.\", ConvergenceWarning)\n",
      "D:\\anaconda\\lib\\site-packages\\sklearn\\svm\\base.py:929: ConvergenceWarning: Liblinear failed to converge, increase the number of iterations.\n",
      "  \"the number of iterations.\", ConvergenceWarning)\n"
     ]
    },
    {
     "name": "stdout",
     "output_type": "stream",
     "text": [
      "预测准确率： 0.7446576720020113\n",
      "查看选择的参数模型： {'C': 10}\n"
     ]
    },
    {
     "name": "stderr",
     "output_type": "stream",
     "text": [
      "D:\\anaconda\\lib\\site-packages\\sklearn\\svm\\base.py:929: ConvergenceWarning: Liblinear failed to converge, increase the number of iterations.\n",
      "  \"the number of iterations.\", ConvergenceWarning)\n"
     ]
    }
   ],
   "source": [
    "from sklearn.multiclass import OneVsRestClassifier\n",
    "from sklearn.svm import LinearSVC\n",
    "from sklearn.model_selection import cross_val_score\n",
    "param = {\"C\":[0.1, 1, 10]}\n",
    "svc_model = LinearSVC()\n",
    "gc = GridSearchCV(svc_model,param_grid=param,cv=10)\n",
    "gc.fit(train_X, train_y)\n",
    "print(\"预测准确率：\",gc.score(test_X, test_y))\n",
    "print(\"查看选择的参数模型：\",gc.best_params_)"
   ]
  },
  {
   "cell_type": "markdown",
   "metadata": {},
   "source": [
    "## 使用卷积神经网络"
   ]
  },
  {
   "cell_type": "markdown",
   "metadata": {},
   "source": [
    "开始"
   ]
  },
  {
   "cell_type": "code",
   "execution_count": 52,
   "metadata": {},
   "outputs": [],
   "source": [
    "import pandas as pd  \n",
    "import jieba  \n",
    "import jieba.analyse as analyse  \n",
    "from tensorflow import keras\n",
    "from tensorflow.keras.preprocessing.text import Tokenizer  \n",
    "from tensorflow.keras.preprocessing import sequence  \n",
    "from tensorflow.keras.models import Sequential  \n",
    "from tensorflow.python.keras.layers import Dense, Dropout, Activation, Flatten, MaxPool1D, Conv1D  \n",
    "from tensorflow.python.keras.layers.embeddings import Embedding  \n",
    "from tensorflow.python.keras.utils import multi_gpu_model  \n",
    "from tensorflow.python.keras.models import load_model  \n",
    "from tensorflow.python.keras import regularizers  # 正则化  \n",
    "import matplotlib.pyplot as plt  \n",
    "import numpy as np  \n",
    "from tensorflow.python.keras.utils import plot_model  \n",
    "from sklearn.model_selection import train_test_split  \n",
    "from tensorflow.python.keras.utils.np_utils import to_categorical  \n",
    "from sklearn.preprocessing import LabelEncoder  \n",
    "from tensorflow.python.keras.layers import BatchNormalization"
   ]
  },
  {
   "cell_type": "code",
   "execution_count": null,
   "metadata": {},
   "outputs": [],
   "source": []
  }
 ],
 "metadata": {
  "kernelspec": {
   "display_name": "Python 3",
   "language": "python",
   "name": "python3"
  },
  "language_info": {
   "codemirror_mode": {
    "name": "ipython",
    "version": 3
   },
   "file_extension": ".py",
   "mimetype": "text/x-python",
   "name": "python",
   "nbconvert_exporter": "python",
   "pygments_lexer": "ipython3",
   "version": "3.7.3"
  }
 },
 "nbformat": 4,
 "nbformat_minor": 2
}
