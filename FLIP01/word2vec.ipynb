{
 "cells": [
  {
   "cell_type": "code",
   "execution_count": 1,
   "metadata": {},
   "outputs": [],
   "source": [
    "import pandas as pd\n",
    "import os\n",
    "import re\n",
    "import numpy as np\n",
    "import matplotlib.pyplot as plt\n",
    "from wordcloud import WordCloud\n",
    "from gensim.models import Word2Vec"
   ]
  },
  {
   "cell_type": "markdown",
   "metadata": {},
   "source": [
    "导入库函数"
   ]
  },
  {
   "cell_type": "code",
   "execution_count": 2,
   "metadata": {},
   "outputs": [],
   "source": [
    "train_filename = 'E:/tulip-flip/flip01/data/train.json'\n",
    "test_filename = 'E:/tulip-flip/flip01/data//test.json'"
   ]
  },
  {
   "cell_type": "code",
   "execution_count": 3,
   "metadata": {},
   "outputs": [],
   "source": [
    "train = pd.read_json(train_filename)"
   ]
  },
  {
   "cell_type": "code",
   "execution_count": 4,
   "metadata": {},
   "outputs": [
    {
     "data": {
      "text/html": [
       "<div>\n",
       "<style scoped>\n",
       "    .dataframe tbody tr th:only-of-type {\n",
       "        vertical-align: middle;\n",
       "    }\n",
       "\n",
       "    .dataframe tbody tr th {\n",
       "        vertical-align: top;\n",
       "    }\n",
       "\n",
       "    .dataframe thead th {\n",
       "        text-align: right;\n",
       "    }\n",
       "</style>\n",
       "<table border=\"1\" class=\"dataframe\">\n",
       "  <thead>\n",
       "    <tr style=\"text-align: right;\">\n",
       "      <th></th>\n",
       "      <th>cuisine</th>\n",
       "      <th>id</th>\n",
       "      <th>ingredients</th>\n",
       "    </tr>\n",
       "  </thead>\n",
       "  <tbody>\n",
       "    <tr>\n",
       "      <th>0</th>\n",
       "      <td>greek</td>\n",
       "      <td>10259</td>\n",
       "      <td>[romaine lettuce, black olives, grape tomatoes...</td>\n",
       "    </tr>\n",
       "    <tr>\n",
       "      <th>1</th>\n",
       "      <td>southern_us</td>\n",
       "      <td>25693</td>\n",
       "      <td>[plain flour, ground pepper, salt, tomatoes, g...</td>\n",
       "    </tr>\n",
       "    <tr>\n",
       "      <th>2</th>\n",
       "      <td>filipino</td>\n",
       "      <td>20130</td>\n",
       "      <td>[eggs, pepper, salt, mayonaise, cooking oil, g...</td>\n",
       "    </tr>\n",
       "    <tr>\n",
       "      <th>3</th>\n",
       "      <td>indian</td>\n",
       "      <td>22213</td>\n",
       "      <td>[water, vegetable oil, wheat, salt]</td>\n",
       "    </tr>\n",
       "    <tr>\n",
       "      <th>4</th>\n",
       "      <td>indian</td>\n",
       "      <td>13162</td>\n",
       "      <td>[black pepper, shallots, cornflour, cayenne pe...</td>\n",
       "    </tr>\n",
       "  </tbody>\n",
       "</table>\n",
       "</div>"
      ],
      "text/plain": [
       "       cuisine     id                                        ingredients\n",
       "0        greek  10259  [romaine lettuce, black olives, grape tomatoes...\n",
       "1  southern_us  25693  [plain flour, ground pepper, salt, tomatoes, g...\n",
       "2     filipino  20130  [eggs, pepper, salt, mayonaise, cooking oil, g...\n",
       "3       indian  22213                [water, vegetable oil, wheat, salt]\n",
       "4       indian  13162  [black pepper, shallots, cornflour, cayenne pe..."
      ]
     },
     "execution_count": 4,
     "metadata": {},
     "output_type": "execute_result"
    }
   ],
   "source": [
    "train.head()"
   ]
  },
  {
   "cell_type": "code",
   "execution_count": 5,
   "metadata": {},
   "outputs": [],
   "source": [
    "label = list(train['cuisine'].unique())"
   ]
  },
  {
   "cell_type": "code",
   "execution_count": 6,
   "metadata": {},
   "outputs": [],
   "source": [
    "def label_dataset(row):\n",
    "    num_label = label.index(row)\n",
    "    return num_label\n",
    "\n",
    "train['label'] = train['cuisine'].apply(label_dataset)"
   ]
  },
  {
   "cell_type": "code",
   "execution_count": 7,
   "metadata": {},
   "outputs": [
    {
     "data": {
      "text/html": [
       "<div>\n",
       "<style scoped>\n",
       "    .dataframe tbody tr th:only-of-type {\n",
       "        vertical-align: middle;\n",
       "    }\n",
       "\n",
       "    .dataframe tbody tr th {\n",
       "        vertical-align: top;\n",
       "    }\n",
       "\n",
       "    .dataframe thead th {\n",
       "        text-align: right;\n",
       "    }\n",
       "</style>\n",
       "<table border=\"1\" class=\"dataframe\">\n",
       "  <thead>\n",
       "    <tr style=\"text-align: right;\">\n",
       "      <th></th>\n",
       "      <th>cuisine</th>\n",
       "      <th>id</th>\n",
       "      <th>ingredients</th>\n",
       "      <th>label</th>\n",
       "    </tr>\n",
       "  </thead>\n",
       "  <tbody>\n",
       "    <tr>\n",
       "      <th>39769</th>\n",
       "      <td>irish</td>\n",
       "      <td>29109</td>\n",
       "      <td>[light brown sugar, granulated sugar, butter, ...</td>\n",
       "      <td>16</td>\n",
       "    </tr>\n",
       "    <tr>\n",
       "      <th>39770</th>\n",
       "      <td>italian</td>\n",
       "      <td>11462</td>\n",
       "      <td>[KRAFT Zesty Italian Dressing, purple onion, b...</td>\n",
       "      <td>6</td>\n",
       "    </tr>\n",
       "    <tr>\n",
       "      <th>39771</th>\n",
       "      <td>irish</td>\n",
       "      <td>2238</td>\n",
       "      <td>[eggs, citrus fruit, raisins, sourdough starte...</td>\n",
       "      <td>16</td>\n",
       "    </tr>\n",
       "    <tr>\n",
       "      <th>39772</th>\n",
       "      <td>chinese</td>\n",
       "      <td>41882</td>\n",
       "      <td>[boneless chicken skinless thigh, minced garli...</td>\n",
       "      <td>8</td>\n",
       "    </tr>\n",
       "    <tr>\n",
       "      <th>39773</th>\n",
       "      <td>mexican</td>\n",
       "      <td>2362</td>\n",
       "      <td>[green chile, jalapeno chilies, onions, ground...</td>\n",
       "      <td>7</td>\n",
       "    </tr>\n",
       "  </tbody>\n",
       "</table>\n",
       "</div>"
      ],
      "text/plain": [
       "       cuisine     id                                        ingredients  \\\n",
       "39769    irish  29109  [light brown sugar, granulated sugar, butter, ...   \n",
       "39770  italian  11462  [KRAFT Zesty Italian Dressing, purple onion, b...   \n",
       "39771    irish   2238  [eggs, citrus fruit, raisins, sourdough starte...   \n",
       "39772  chinese  41882  [boneless chicken skinless thigh, minced garli...   \n",
       "39773  mexican   2362  [green chile, jalapeno chilies, onions, ground...   \n",
       "\n",
       "       label  \n",
       "39769     16  \n",
       "39770      6  \n",
       "39771     16  \n",
       "39772      8  \n",
       "39773      7  "
      ]
     },
     "execution_count": 7,
     "metadata": {},
     "output_type": "execute_result"
    }
   ],
   "source": [
    "train.tail()"
   ]
  },
  {
   "cell_type": "code",
   "execution_count": 8,
   "metadata": {},
   "outputs": [],
   "source": [
    "stop = ['，','。','[',']','{','}','\"',':',',']"
   ]
  },
  {
   "cell_type": "code",
   "execution_count": 9,
   "metadata": {},
   "outputs": [],
   "source": [
    "train['ingredients'] = [[j for j in i if j not in stop]for i in train['ingredients']]"
   ]
  },
  {
   "cell_type": "code",
   "execution_count": 10,
   "metadata": {},
   "outputs": [
    {
     "data": {
      "text/html": [
       "<div>\n",
       "<style scoped>\n",
       "    .dataframe tbody tr th:only-of-type {\n",
       "        vertical-align: middle;\n",
       "    }\n",
       "\n",
       "    .dataframe tbody tr th {\n",
       "        vertical-align: top;\n",
       "    }\n",
       "\n",
       "    .dataframe thead th {\n",
       "        text-align: right;\n",
       "    }\n",
       "</style>\n",
       "<table border=\"1\" class=\"dataframe\">\n",
       "  <thead>\n",
       "    <tr style=\"text-align: right;\">\n",
       "      <th></th>\n",
       "      <th>cuisine</th>\n",
       "      <th>id</th>\n",
       "      <th>ingredients</th>\n",
       "      <th>label</th>\n",
       "    </tr>\n",
       "  </thead>\n",
       "  <tbody>\n",
       "    <tr>\n",
       "      <th>39769</th>\n",
       "      <td>irish</td>\n",
       "      <td>29109</td>\n",
       "      <td>[light brown sugar, granulated sugar, butter, ...</td>\n",
       "      <td>16</td>\n",
       "    </tr>\n",
       "    <tr>\n",
       "      <th>39770</th>\n",
       "      <td>italian</td>\n",
       "      <td>11462</td>\n",
       "      <td>[KRAFT Zesty Italian Dressing, purple onion, b...</td>\n",
       "      <td>6</td>\n",
       "    </tr>\n",
       "    <tr>\n",
       "      <th>39771</th>\n",
       "      <td>irish</td>\n",
       "      <td>2238</td>\n",
       "      <td>[eggs, citrus fruit, raisins, sourdough starte...</td>\n",
       "      <td>16</td>\n",
       "    </tr>\n",
       "    <tr>\n",
       "      <th>39772</th>\n",
       "      <td>chinese</td>\n",
       "      <td>41882</td>\n",
       "      <td>[boneless chicken skinless thigh, minced garli...</td>\n",
       "      <td>8</td>\n",
       "    </tr>\n",
       "    <tr>\n",
       "      <th>39773</th>\n",
       "      <td>mexican</td>\n",
       "      <td>2362</td>\n",
       "      <td>[green chile, jalapeno chilies, onions, ground...</td>\n",
       "      <td>7</td>\n",
       "    </tr>\n",
       "  </tbody>\n",
       "</table>\n",
       "</div>"
      ],
      "text/plain": [
       "       cuisine     id                                        ingredients  \\\n",
       "39769    irish  29109  [light brown sugar, granulated sugar, butter, ...   \n",
       "39770  italian  11462  [KRAFT Zesty Italian Dressing, purple onion, b...   \n",
       "39771    irish   2238  [eggs, citrus fruit, raisins, sourdough starte...   \n",
       "39772  chinese  41882  [boneless chicken skinless thigh, minced garli...   \n",
       "39773  mexican   2362  [green chile, jalapeno chilies, onions, ground...   \n",
       "\n",
       "       label  \n",
       "39769     16  \n",
       "39770      6  \n",
       "39771     16  \n",
       "39772      8  \n",
       "39773      7  "
      ]
     },
     "execution_count": 10,
     "metadata": {},
     "output_type": "execute_result"
    }
   ],
   "source": [
    "train.tail()"
   ]
  },
  {
   "cell_type": "code",
   "execution_count": 11,
   "metadata": {},
   "outputs": [],
   "source": [
    "sentences = train['ingredients']"
   ]
  },
  {
   "cell_type": "code",
   "execution_count": 12,
   "metadata": {},
   "outputs": [],
   "source": [
    "model = Word2Vec(sentences,sg=1,size=100,window=5,min_count=1,negative=3,sample=0.001,hs=1,workers=4)"
   ]
  },
  {
   "cell_type": "code",
   "execution_count": 13,
   "metadata": {},
   "outputs": [],
   "source": [
    "model.wv.save_word2vec_format(\"word2vec\",binary = \"Ture\")  #通过该方式保存的模型，能通过文本格式打开，也能通过设置binary是否保存为二进制文件。但该模型在保存时丢弃了树的保存形式（详情参加word2vec构建过程，以类似哈夫曼树的形式保存词），所以在后续不能对模型进行追加训练"
   ]
  },
  {
   "cell_type": "code",
   "execution_count": 14,
   "metadata": {},
   "outputs": [
    {
     "data": {
      "text/plain": [
       "<gensim.models.word2vec.Word2Vec at 0x2d9f1cb51d0>"
      ]
     },
     "execution_count": 14,
     "metadata": {},
     "output_type": "execute_result"
    }
   ],
   "source": [
    "model"
   ]
  },
  {
   "cell_type": "code",
   "execution_count": 15,
   "metadata": {},
   "outputs": [
    {
     "name": "stderr",
     "output_type": "stream",
     "text": [
      "D:\\anaconda\\lib\\site-packages\\ipykernel_launcher.py:1: DeprecationWarning: Call to deprecated `most_similar` (Method will be removed in 4.0.0, use self.wv.most_similar() instead).\n",
      "  \"\"\"Entry point for launching an IPython kernel.\n"
     ]
    },
    {
     "data": {
      "text/plain": [
       "[(\"Campbell's Condensed Cream of Chicken Soup\", 0.7645553350448608),\n",
       " ('yellow hominy', 0.7600508332252502),\n",
       " ('mild green chiles', 0.7526130676269531),\n",
       " ('green chile sauce', 0.7497570514678955),\n",
       " ('picante sauce', 0.7441935539245605),\n",
       " ('reduced fat monterey jack cheese', 0.7440881133079529),\n",
       " ('fat-free cheddar cheese', 0.743409276008606),\n",
       " ('40% less sodium taco seasoning mix', 0.7433062791824341),\n",
       " ('mexican style 4 cheese blend', 0.7430845499038696),\n",
       " ('40% less sodium taco seasoning', 0.7428058385848999)]"
      ]
     },
     "execution_count": 15,
     "metadata": {},
     "output_type": "execute_result"
    }
   ],
   "source": [
    "model.most_similar(\"green chile\",topn=10)"
   ]
  },
  {
   "cell_type": "code",
   "execution_count": 16,
   "metadata": {},
   "outputs": [
    {
     "data": {
      "text/plain": [
       "gensim.models.word2vec.Word2Vec"
      ]
     },
     "execution_count": 16,
     "metadata": {},
     "output_type": "execute_result"
    }
   ],
   "source": [
    "type(model)"
   ]
  },
  {
   "cell_type": "code",
   "execution_count": 17,
   "metadata": {},
   "outputs": [],
   "source": [
    "def getVector_v2(sentences, model):\n",
    "        vector_list = [ word2vec_model[k] for k in sentences if k in model]\n",
    "        vector_df = pd.DataFrame(vector_list)\n",
    "        sentences_vector = vector_df.mean(axis=0).values\n",
    "        return sentences_vector"
   ]
  },
  {
   "cell_type": "code",
   "execution_count": 18,
   "metadata": {},
   "outputs": [],
   "source": [
    "import time"
   ]
  },
  {
   "cell_type": "code",
   "execution_count": 19,
   "metadata": {},
   "outputs": [
    {
     "name": "stdout",
     "output_type": "stream",
     "text": [
      "Word2Vec(vocab=6714, size=100, alpha=0.025)\n"
     ]
    }
   ],
   "source": [
    "print(model)"
   ]
  },
  {
   "cell_type": "code",
   "execution_count": 20,
   "metadata": {},
   "outputs": [
    {
     "name": "stdout",
     "output_type": "stream",
     "text": [
      "[-0.02592937 -0.601608   -0.07893993  0.23143396 -0.4421613  -0.02062472\n",
      "  0.24397255 -0.17655072 -0.33756706 -0.05419874  0.42510745 -0.04337338\n",
      " -0.10163632 -0.1105748  -0.26092902 -0.051609   -0.23915659 -0.49156788\n",
      "  0.31080538 -0.35797817  0.47740215 -0.02815145 -0.31961927 -0.3370641\n",
      "  0.1079415   0.1966532   0.03009647 -0.13004082  0.44800925 -0.08126725\n",
      " -0.06677918 -0.09637915 -0.5133328   0.23036276  0.13671806 -0.44083214\n",
      "  0.03167189  0.34657738 -0.2259808   0.8407482  -0.27549633 -0.01389752\n",
      " -0.26075292  0.1958615   0.13791148 -0.01906174  0.17548484  0.20360112\n",
      " -0.5210762   0.29568496 -0.01811675 -0.08885522 -0.40023905  0.2212009\n",
      "  0.3894793   0.18531346  0.20948155 -0.1227252  -0.34855083  0.390476\n",
      " -0.3892162   0.39152884 -0.38797048  0.13615257 -0.01593587  0.07370895\n",
      "  0.2081034  -0.0653589  -0.10732474  0.02825111  0.34691438 -0.01557314\n",
      "  0.17172274  0.02897884  0.45616502  0.07523499  0.01020092 -0.2440379\n",
      "  0.10094997 -0.18405356 -0.06563722 -0.03816706  0.23408023  0.41768008\n",
      " -0.5040669  -0.21576627  0.18629338  0.05094442 -0.16204967 -0.39678895\n",
      "  0.08844427  0.5255824   0.19259818  0.25579643  0.04516944  0.1337804\n",
      " -0.11081927 -0.3535626   0.09231244  0.23373339]\n"
     ]
    },
    {
     "name": "stderr",
     "output_type": "stream",
     "text": [
      "D:\\anaconda\\lib\\site-packages\\ipykernel_launcher.py:1: DeprecationWarning: Call to deprecated `__getitem__` (Method will be removed in 4.0.0, use self.wv.__getitem__() instead).\n",
      "  \"\"\"Entry point for launching an IPython kernel.\n"
     ]
    }
   ],
   "source": [
    "print(model['green chile'])"
   ]
  },
  {
   "cell_type": "code",
   "execution_count": 21,
   "metadata": {},
   "outputs": [
    {
     "name": "stdout",
     "output_type": "stream",
     "text": [
      "[ 0.02765419 -0.3294496  -0.11896234  0.07646666 -0.03177109 -0.19033597\n",
      "  0.1781223  -0.10507465 -0.22369273  0.01017765  0.00442666 -0.18320979\n",
      "  0.09179017  0.19890773 -0.14012131  0.08493737 -0.13108899 -0.29785502\n",
      "  0.08763244 -0.09410854  0.1476967   0.02608843 -0.19978258 -0.18477829\n",
      "  0.06109774  0.05776844  0.02698181 -0.04919937  0.0893195  -0.07810136\n",
      "  0.10709336 -0.07905519 -0.3089982   0.03402254  0.04226885 -0.02037675\n",
      " -0.02047033  0.18403427  0.00157852  0.23123506 -0.2053482  -0.11461245\n",
      " -0.06287142  0.17571093  0.01723172 -0.17312978  0.01038291  0.09462248\n",
      " -0.2331819   0.16259928 -0.10425939 -0.06645498 -0.24252321  0.14487211\n",
      "  0.19511418  0.04140241  0.14445166 -0.09119292 -0.1851803   0.17326014\n",
      " -0.2767162   0.1031826  -0.04636717  0.17726503 -0.07673072 -0.0374202\n",
      " -0.06721064 -0.33100614 -0.14314881  0.05657972  0.05662482  0.11688674\n",
      "  0.12864712  0.02266815  0.03844867 -0.08268416  0.10223137 -0.00997653\n",
      " -0.03915552  0.02917193 -0.08159602 -0.02842142 -0.07022836  0.20755206\n",
      " -0.21730547  0.00718529  0.04630617 -0.1892439  -0.18717128 -0.26780313\n",
      " -0.08137373  0.21532062  0.03192551  0.14216393  0.06569944  0.14123154\n",
      "  0.01575881 -0.16371684 -0.02740368  0.02551797]\n"
     ]
    },
    {
     "name": "stderr",
     "output_type": "stream",
     "text": [
      "D:\\anaconda\\lib\\site-packages\\ipykernel_launcher.py:1: DeprecationWarning: Call to deprecated `__getitem__` (Method will be removed in 4.0.0, use self.wv.__getitem__() instead).\n",
      "  \"\"\"Entry point for launching an IPython kernel.\n"
     ]
    }
   ],
   "source": [
    "print(model['fat-free cheddar cheese'])"
   ]
  },
  {
   "cell_type": "code",
   "execution_count": 22,
   "metadata": {},
   "outputs": [
    {
     "name": "stderr",
     "output_type": "stream",
     "text": [
      "D:\\anaconda\\lib\\site-packages\\ipykernel_launcher.py:1: DeprecationWarning: Call to deprecated `__getitem__` (Method will be removed in 4.0.0, use self.wv.__getitem__() instead).\n",
      "  \"\"\"Entry point for launching an IPython kernel.\n"
     ]
    },
    {
     "data": {
      "text/plain": [
       "(100,)"
      ]
     },
     "execution_count": 22,
     "metadata": {},
     "output_type": "execute_result"
    }
   ],
   "source": [
    "model['fat-free cheddar cheese'].shape"
   ]
  },
  {
   "cell_type": "code",
   "execution_count": 23,
   "metadata": {},
   "outputs": [
    {
     "name": "stderr",
     "output_type": "stream",
     "text": [
      "D:\\anaconda\\lib\\site-packages\\ipykernel_launcher.py:1: DeprecationWarning: Call to deprecated `__getitem__` (Method will be removed in 4.0.0, use self.wv.__getitem__() instead).\n",
      "  \"\"\"Entry point for launching an IPython kernel.\n"
     ]
    },
    {
     "data": {
      "text/plain": [
       "numpy.ndarray"
      ]
     },
     "execution_count": 23,
     "metadata": {},
     "output_type": "execute_result"
    }
   ],
   "source": [
    "type(model['fat-free cheddar cheese'])"
   ]
  },
  {
   "cell_type": "code",
   "execution_count": 34,
   "metadata": {},
   "outputs": [
    {
     "name": "stderr",
     "output_type": "stream",
     "text": [
      "D:\\anaconda\\lib\\site-packages\\ipykernel_launcher.py:5: DeprecationWarning: Call to deprecated `__contains__` (Method will be removed in 4.0.0, use self.wv.__contains__() instead).\n",
      "  \"\"\"\n",
      "D:\\anaconda\\lib\\site-packages\\ipykernel_launcher.py:5: DeprecationWarning: Call to deprecated `__getitem__` (Method will be removed in 4.0.0, use self.wv.__getitem__() instead).\n",
      "  \"\"\"\n"
     ]
    },
    {
     "name": "stdout",
     "output_type": "stream",
     "text": [
      "前1000篇文章形成词向量花费5.07秒\n",
      "前2000篇文章形成词向量花费10.04秒\n",
      "前3000篇文章形成词向量花费14.94秒\n",
      "前4000篇文章形成词向量花费20.09秒\n",
      "前5000篇文章形成词向量花费25.12秒\n",
      "前6000篇文章形成词向量花费30.02秒\n",
      "前7000篇文章形成词向量花费34.99秒\n",
      "前8000篇文章形成词向量花费39.93秒\n",
      "前9000篇文章形成词向量花费45.04秒\n",
      "前10000篇文章形成词向量花费49.95秒\n",
      "前11000篇文章形成词向量花费54.85秒\n",
      "前12000篇文章形成词向量花费59.75秒\n",
      "前13000篇文章形成词向量花费64.62秒\n",
      "前14000篇文章形成词向量花费69.53秒\n",
      "前15000篇文章形成词向量花费74.43秒\n",
      "前16000篇文章形成词向量花费79.58秒\n",
      "前17000篇文章形成词向量花费84.52秒\n",
      "前18000篇文章形成词向量花费89.40秒\n",
      "前19000篇文章形成词向量花费94.30秒\n",
      "前20000篇文章形成词向量花费99.22秒\n",
      "前21000篇文章形成词向量花费104.11秒\n",
      "前22000篇文章形成词向量花费109.06秒\n",
      "前23000篇文章形成词向量花费113.93秒\n",
      "前24000篇文章形成词向量花费118.82秒\n",
      "前25000篇文章形成词向量花费123.69秒\n",
      "前26000篇文章形成词向量花费128.58秒\n",
      "前27000篇文章形成词向量花费133.44秒\n",
      "前28000篇文章形成词向量花费138.47秒\n",
      "前29000篇文章形成词向量花费143.36秒\n",
      "前30000篇文章形成词向量花费148.25秒\n",
      "前31000篇文章形成词向量花费153.12秒\n",
      "前32000篇文章形成词向量花费158.03秒\n",
      "前33000篇文章形成词向量花费162.91秒\n",
      "前34000篇文章形成词向量花费167.81秒\n",
      "前35000篇文章形成词向量花费172.72秒\n",
      "前36000篇文章形成词向量花费177.60秒\n",
      "前37000篇文章形成词向量花费182.74秒\n",
      "前38000篇文章形成词向量花费187.62秒\n",
      "前39000篇文章形成词向量花费192.60秒\n",
      "Total Time You Need To Get X:196.42秒\n"
     ]
    }
   ],
   "source": [
    "import time\n",
    "import pandas as pd\n",
    "import numpy as np\n",
    "def getVector_v2(cutWords, model):\n",
    "        vector_list = [ model[k] for k in cutWords if k in model]\n",
    "        vector_df = pd.DataFrame(vector_list)\n",
    "        cutWord_vector = vector_df.mean(axis=0).values\n",
    "        return cutWord_vector\n",
    " \n",
    "startTime = time.time()\n",
    "vector_list = []\n",
    "i = 0\n",
    "for cutWords in train['ingredients'][:]:\n",
    "        i += 1\n",
    "        if i % 1000 ==0:\n",
    "                print('前%d篇文章形成词向量花费%.2f秒' %(i, time.time()-startTime))\n",
    " \n",
    "        vector_list.append( getVector_v2(cutWords, model) )\n",
    "X = np.array(vector_list)\n",
    "print('Total Time You Need To Get X:%.2f秒' % (time.time() - startTime) )"
   ]
  },
  {
   "cell_type": "code",
   "execution_count": 35,
   "metadata": {},
   "outputs": [
    {
     "data": {
      "text/plain": [
       "array([[ 0.00488153, -0.07471909, -0.00694176, ..., -0.09361217,\n",
       "        -0.00357188, -0.20820458],\n",
       "       [-0.01650314, -0.22604176, -0.18595559, ..., -0.14740083,\n",
       "         0.09917212, -0.07850694],\n",
       "       [-0.03483694, -0.25671606, -0.15828884, ..., -0.27964889,\n",
       "         0.20572102, -0.07088326],\n",
       "       ...,\n",
       "       [-0.01280788, -0.28044556, -0.06630122, ..., -0.02941976,\n",
       "         0.15684431,  0.08953508],\n",
       "       [ 0.04640385, -0.1859432 , -0.00620176, ..., -0.21739457,\n",
       "         0.13675954,  0.23046296],\n",
       "       [-0.02757431, -0.33488105, -0.08490062, ..., -0.22442741,\n",
       "         0.06255712,  0.09069215]])"
      ]
     },
     "execution_count": 35,
     "metadata": {},
     "output_type": "execute_result"
    }
   ],
   "source": [
    "X"
   ]
  },
  {
   "cell_type": "code",
   "execution_count": 36,
   "metadata": {},
   "outputs": [],
   "source": [
    "from sklearn.model_selection import train_test_split,GridSearchCV\n",
    "from sklearn.naive_bayes import MultinomialNB \n",
    "from sklearn.model_selection import cross_val_score"
   ]
  },
  {
   "cell_type": "code",
   "execution_count": 37,
   "metadata": {},
   "outputs": [
    {
     "data": {
      "text/plain": [
       "['romaine lettuce',\n",
       " 'black olives',\n",
       " 'grape tomatoes',\n",
       " 'garlic',\n",
       " 'pepper',\n",
       " 'purple onion',\n",
       " 'seasoning',\n",
       " 'garbanzo beans',\n",
       " 'feta cheese crumbles']"
      ]
     },
     "execution_count": 37,
     "metadata": {},
     "output_type": "execute_result"
    }
   ],
   "source": [
    "train['ingredients'][0]"
   ]
  },
  {
   "cell_type": "code",
   "execution_count": 38,
   "metadata": {},
   "outputs": [
    {
     "name": "stderr",
     "output_type": "stream",
     "text": [
      "D:\\anaconda\\lib\\site-packages\\ipykernel_launcher.py:1: DeprecationWarning: Call to deprecated `__getitem__` (Method will be removed in 4.0.0, use self.wv.__getitem__() instead).\n",
      "  \"\"\"Entry point for launching an IPython kernel.\n"
     ]
    },
    {
     "data": {
      "text/plain": [
       "array([ 0.09070955,  0.1133802 , -0.16740635,  0.1941014 , -0.3537617 ,\n",
       "       -0.38989943,  0.34018862, -0.30592024, -0.13780987,  0.20218177,\n",
       "        0.251847  , -0.28722754,  0.25019342,  0.00870686,  0.0883423 ,\n",
       "        0.13930233, -0.13595046, -0.28857714, -0.08695273,  0.05164268,\n",
       "        0.25147578,  0.3314705 , -0.14620464, -0.2820956 ,  0.36720505,\n",
       "        0.6133429 , -0.00522876, -0.3871687 ,  0.02790113, -0.18547904,\n",
       "        0.13135074,  0.29544273, -0.02498611,  0.45833763, -0.30237803,\n",
       "        0.20047826,  0.07082342,  0.09699158,  0.59738684,  0.15671134,\n",
       "       -0.14030814, -0.20544128, -0.36753574,  0.24393508, -0.06155745,\n",
       "       -0.26306668,  0.22393095,  0.06175306, -0.27223343, -0.06203232,\n",
       "       -0.22599368,  0.07416092, -0.5458875 ,  0.41954687,  0.5567233 ,\n",
       "       -0.21889465,  0.39541775, -0.366057  , -0.20845531,  0.03790593,\n",
       "       -0.31425902,  0.12817743,  0.30297586,  0.09754949,  0.09620361,\n",
       "        0.09419651, -0.17189068, -0.23790205, -0.5074029 , -0.16928978,\n",
       "        0.20067495,  0.3539002 , -0.42028686, -0.27112445,  0.24786949,\n",
       "        0.05286688, -0.14093588, -0.00414935, -0.07984681, -0.0739333 ,\n",
       "        0.29320928, -0.02972506, -0.46862024,  0.3158789 , -0.3121375 ,\n",
       "       -0.02142503,  0.23145941, -0.27112445, -0.70696485, -0.4276027 ,\n",
       "        0.08767627,  0.4790838 ,  0.3987322 , -0.15350051, -0.69568235,\n",
       "        0.29078305,  0.23007177,  0.0200651 , -0.04843968,  0.08540128],\n",
       "      dtype=float32)"
      ]
     },
     "execution_count": 38,
     "metadata": {},
     "output_type": "execute_result"
    }
   ],
   "source": [
    "model['romaine lettuce']"
   ]
  },
  {
   "cell_type": "code",
   "execution_count": 39,
   "metadata": {},
   "outputs": [
    {
     "data": {
      "text/plain": [
       "array([-0.01650314, -0.22604176, -0.18595559,  0.0180512 , -0.21374847,\n",
       "        0.02562933, -0.10925157, -0.01711627, -0.07635584,  0.03027165,\n",
       "       -0.08693466, -0.04535807,  0.15112986,  0.23489961, -0.28358136,\n",
       "       -0.10966772, -0.08942102, -0.44438154, -0.0988734 ,  0.15381991,\n",
       "        0.11669415,  0.15823055, -0.04814266, -0.06999438,  0.02483705,\n",
       "       -0.04523937, -0.05516823, -0.00991642,  0.27292706, -0.03761397,\n",
       "        0.19777931, -0.16810852,  0.02254523, -0.04476321,  0.13285588,\n",
       "       -0.13745524, -0.00244369,  0.30701678, -0.10558816,  0.00224637,\n",
       "        0.14185293, -0.18548527, -0.31875051,  0.14336071, -0.06292271,\n",
       "        0.19101338,  0.17490362,  0.00055844, -0.05386827,  0.22104462,\n",
       "        0.13277481, -0.09514338, -0.10498018,  0.05686245, -0.0507522 ,\n",
       "       -0.01311225, -0.20479924, -0.14142071,  0.1873722 ,  0.06127356,\n",
       "       -0.28509108,  0.18303498,  0.09521585,  0.08317706, -0.18013829,\n",
       "        0.01594441, -0.06245564, -0.05744828, -0.18888618,  0.17013636,\n",
       "       -0.00674721,  0.10350442, -0.2309994 ,  0.01267549, -0.03690532,\n",
       "       -0.17665477, -0.16244849, -0.37077099, -0.16336629, -0.07270132,\n",
       "        0.25050157, -0.07074363, -0.18750227,  0.18738209, -0.34023534,\n",
       "       -0.18482316,  0.1095445 , -0.03446419, -0.1588068 ,  0.02944474,\n",
       "       -0.08245175,  0.08256049,  0.06202834,  0.30572161, -0.15364743,\n",
       "        0.09640838, -0.03563998, -0.14740083,  0.09917212, -0.07850694])"
      ]
     },
     "execution_count": 39,
     "metadata": {},
     "output_type": "execute_result"
    }
   ],
   "source": [
    "X[1]"
   ]
  },
  {
   "cell_type": "code",
   "execution_count": 40,
   "metadata": {},
   "outputs": [
    {
     "data": {
      "text/plain": [
       "array([ 0.00121206, -0.16203284,  0.16524503, -0.1716917 , -0.33203769,\n",
       "       -0.25363306,  0.02139137, -0.00932025, -0.14737728, -0.0101067 ,\n",
       "        0.31648949,  0.07612023,  0.11923897,  0.21287747,  0.00306039,\n",
       "        0.03202882,  0.01518856, -0.3215014 , -0.21022508, -0.06933635,\n",
       "        0.09400438,  0.27209897, -0.17149662, -0.1887246 ,  0.05130234,\n",
       "        0.26942399, -0.15383063, -0.37897875,  0.063091  ,  0.09594513,\n",
       "        0.3734941 , -0.07536975, -0.25382844, -0.02212497, -0.27093068,\n",
       "       -0.0555742 ,  0.14068938,  0.20269871, -0.10992669,  0.12935139,\n",
       "        0.04528682, -0.03906621, -0.08384427,  0.09535031, -0.01352208,\n",
       "        0.07907843,  0.15294936,  0.06706166, -0.06240052,  0.06309771,\n",
       "       -0.11751459, -0.29678931, -0.2777422 ,  0.19340875,  0.12738796,\n",
       "       -0.31954821, -0.03724808, -0.07249072,  0.07687027,  0.03555681,\n",
       "       -0.2790867 ,  0.2224373 ,  0.23381145,  0.00530235, -0.10286504,\n",
       "       -0.24789964,  0.08216632,  0.13244858, -0.08625729,  0.03942247,\n",
       "        0.0310847 ,  0.01559274, -0.28425613,  0.00674111, -0.12109745,\n",
       "        0.00407819, -0.16290475, -0.33559476, -0.1646777 , -0.09591978,\n",
       "       -0.19071207, -0.04599337, -0.14646761, -0.07007874, -0.10597786,\n",
       "       -0.0904219 ,  0.05197715,  0.16792844, -0.37940336, -0.07195744,\n",
       "        0.01698969,  0.13149024, -0.13054047,  0.19246938, -0.16185231,\n",
       "        0.13640584, -0.13090721, -0.19747951,  0.08736015,  0.17313858])"
      ]
     },
     "execution_count": 40,
     "metadata": {},
     "output_type": "execute_result"
    }
   ],
   "source": [
    "X[1800]"
   ]
  },
  {
   "cell_type": "code",
   "execution_count": 42,
   "metadata": {},
   "outputs": [],
   "source": [
    "classifier = MultinomialNB()\n",
    "classifier.fit = (train_x,train_y)"
   ]
  },
  {
   "cell_type": "code",
   "execution_count": 48,
   "metadata": {},
   "outputs": [
    {
     "name": "stderr",
     "output_type": "stream",
     "text": [
      "D:\\anaconda\\lib\\site-packages\\sklearn\\linear_model\\logistic.py:432: FutureWarning: Default solver will be changed to 'lbfgs' in 0.22. Specify a solver to silence this warning.\n",
      "  FutureWarning)\n",
      "D:\\anaconda\\lib\\site-packages\\sklearn\\linear_model\\logistic.py:469: FutureWarning: Default multi_class will be changed to 'auto' in 0.22. Specify the multi_class option to silence this warning.\n",
      "  \"this warning.\", FutureWarning)\n"
     ]
    },
    {
     "data": {
      "text/plain": [
       "0.7265566077264728"
      ]
     },
     "execution_count": 48,
     "metadata": {},
     "output_type": "execute_result"
    }
   ],
   "source": [
    "from sklearn.linear_model import LogisticRegression\n",
    "from sklearn.model_selection import train_test_split\n",
    "train_X, test_X, train_y, test_y = train_test_split(X, train['label'], test_size=0.3, random_state=0)\n",
    " \n",
    "logistic_model = LogisticRegression()\n",
    "logistic_model.fit(train_X, train_y)\n",
    "logistic_model.score(test_X, test_y)"
   ]
  },
  {
   "cell_type": "code",
   "execution_count": 52,
   "metadata": {},
   "outputs": [
    {
     "data": {
      "text/plain": [
       "0.5730327662783876"
      ]
     },
     "execution_count": 52,
     "metadata": {},
     "output_type": "execute_result"
    }
   ],
   "source": [
    "from sklearn.model_selection import train_test_split,GridSearchCV\n",
    "from sklearn.naive_bayes import GaussianNB \n",
    "from sklearn.model_selection import cross_val_score\n",
    "NB_model = GaussianNB()\n",
    "NB_model.fit(train_X, train_y)\n",
    "NB_model.score(test_X, test_y)"
   ]
  },
  {
   "cell_type": "code",
   "execution_count": 60,
   "metadata": {},
   "outputs": [
    {
     "data": {
      "text/plain": [
       "(100,)"
      ]
     },
     "execution_count": 60,
     "metadata": {},
     "output_type": "execute_result"
    }
   ],
   "source": [
    "X[1].shape"
   ]
  },
  {
   "cell_type": "code",
   "execution_count": 77,
   "metadata": {},
   "outputs": [
    {
     "name": "stdout",
     "output_type": "stream",
     "text": [
      "在测试集上的准确率： 0.7404676108271181\n",
      "选择最好的模型是： KNeighborsClassifier(algorithm='auto', leaf_size=30, metric='minkowski',\n",
      "                     metric_params=None, n_jobs=None, n_neighbors=10, p=2,\n",
      "                     weights='uniform')\n",
      "每个超参数每次交叉验证的结果： {'mean_fit_time': array([0.20005236, 0.20235014, 0.19914343]), 'std_fit_time': array([0.00230057, 0.01033799, 0.00354395]), 'mean_score_time': array([14.00058517, 14.52305827, 15.04352744]), 'std_score_time': array([0.23395227, 0.24456226, 0.09648512]), 'param_n_neighbors': masked_array(data=[3, 5, 10],\n",
      "             mask=[False, False, False],\n",
      "       fill_value='?',\n",
      "            dtype=object), 'params': [{'n_neighbors': 3}, {'n_neighbors': 5}, {'n_neighbors': 10}], 'split0_test_score': array([0.71786609, 0.72932331, 0.73540995]), 'split1_test_score': array([0.68960573, 0.70752688, 0.71935484]), 'split2_test_score': array([0.70501792, 0.72114695, 0.72939068]), 'split3_test_score': array([0.71367061, 0.7294582 , 0.73448152]), 'split4_test_score': array([0.71464465, 0.72038765, 0.73941134]), 'split5_test_score': array([0.71336207, 0.72880747, 0.73347701]), 'split6_test_score': array([0.71988493, 0.731032  , 0.735347  ]), 'split7_test_score': array([0.69150468, 0.70590353, 0.71418287]), 'split8_test_score': array([0.70147641, 0.70939863, 0.72740367]), 'split9_test_score': array([0.71891892, 0.73513514, 0.73765766]), 'mean_test_score': array([0.70859524, 0.72181315, 0.73061312]), 'std_test_score': array([0.01058812, 0.0101936 , 0.00776998]), 'rank_test_score': array([3, 2, 1])}\n"
     ]
    }
   ],
   "source": [
    "from sklearn.model_selection import train_test_split\n",
    "from sklearn.neighbors import KNeighborsClassifier\n",
    "knn_model = KNeighborsClassifier()\n",
    "param = {\"n_neighbors\": [3,5,10]}\n",
    "gc = GridSearchCV(knn_model,param_grid=param ,cv=10)\n",
    "gc.fit(train_X, train_y)\n",
    "print(\"在测试集上的准确率：\",gc.score(test_X, test_y))\n",
    "print(\"选择最好的模型是：\",gc.best_estimator_)\n",
    "print(\"每个超参数每次交叉验证的结果：\",gc.cv_results_)"
   ]
  },
  {
   "cell_type": "code",
   "execution_count": 80,
   "metadata": {},
   "outputs": [
    {
     "name": "stdout",
     "output_type": "stream",
     "text": [
      "预测准确率： 0.7362775496522249\n",
      "查看选择的参数模型： {'max_depth': 30, 'n_estimators': 1200}\n"
     ]
    }
   ],
   "source": [
    "from sklearn.ensemble import RandomForestClassifier\n",
    "param = {\"n_estimators\":[120,200,300,500,800,1200],\"max_depth\":[5,8,15,25,30]}\n",
    "rf = RandomForestClassifier()\n",
    "gc = GridSearchCV(rf,param_grid=param,cv=2)\n",
    "gc.fit(train_X, train_y)\n",
    "print(\"预测准确率：\",gc.score(test_X, test_y))\n",
    "print(\"查看选择的参数模型：\",gc.best_params_)"
   ]
  },
  {
   "cell_type": "code",
   "execution_count": 86,
   "metadata": {},
   "outputs": [],
   "source": [
    "from sklearn.multiclass import OneVsRestClassifier\n",
    "from sklearn.svm import LinearSVC\n",
    "from sklearn.model_selection import cross_val_score"
   ]
  },
  {
   "cell_type": "code",
   "execution_count": 87,
   "metadata": {},
   "outputs": [
    {
     "data": {
      "text/plain": [
       "0.725215788150507"
      ]
     },
     "execution_count": 87,
     "metadata": {},
     "output_type": "execute_result"
    }
   ],
   "source": [
    "svc_model = LinearSVC()\n",
    "svc_model.fit(train_X, train_y)\n",
    "svc_model.score(test_X, test_y)"
   ]
  },
  {
   "cell_type": "code",
   "execution_count": 116,
   "metadata": {},
   "outputs": [
    {
     "name": "stderr",
     "output_type": "stream",
     "text": [
      "D:\\anaconda\\lib\\site-packages\\sklearn\\svm\\base.py:929: ConvergenceWarning: Liblinear failed to converge, increase the number of iterations.\n",
      "  \"the number of iterations.\", ConvergenceWarning)\n",
      "D:\\anaconda\\lib\\site-packages\\sklearn\\svm\\base.py:929: ConvergenceWarning: Liblinear failed to converge, increase the number of iterations.\n",
      "  \"the number of iterations.\", ConvergenceWarning)\n",
      "D:\\anaconda\\lib\\site-packages\\sklearn\\svm\\base.py:929: ConvergenceWarning: Liblinear failed to converge, increase the number of iterations.\n",
      "  \"the number of iterations.\", ConvergenceWarning)\n",
      "D:\\anaconda\\lib\\site-packages\\sklearn\\svm\\base.py:929: ConvergenceWarning: Liblinear failed to converge, increase the number of iterations.\n",
      "  \"the number of iterations.\", ConvergenceWarning)\n",
      "D:\\anaconda\\lib\\site-packages\\sklearn\\svm\\base.py:929: ConvergenceWarning: Liblinear failed to converge, increase the number of iterations.\n",
      "  \"the number of iterations.\", ConvergenceWarning)\n",
      "D:\\anaconda\\lib\\site-packages\\sklearn\\svm\\base.py:929: ConvergenceWarning: Liblinear failed to converge, increase the number of iterations.\n",
      "  \"the number of iterations.\", ConvergenceWarning)\n",
      "D:\\anaconda\\lib\\site-packages\\sklearn\\svm\\base.py:929: ConvergenceWarning: Liblinear failed to converge, increase the number of iterations.\n",
      "  \"the number of iterations.\", ConvergenceWarning)\n",
      "D:\\anaconda\\lib\\site-packages\\sklearn\\svm\\base.py:929: ConvergenceWarning: Liblinear failed to converge, increase the number of iterations.\n",
      "  \"the number of iterations.\", ConvergenceWarning)\n",
      "D:\\anaconda\\lib\\site-packages\\sklearn\\svm\\base.py:929: ConvergenceWarning: Liblinear failed to converge, increase the number of iterations.\n",
      "  \"the number of iterations.\", ConvergenceWarning)\n",
      "D:\\anaconda\\lib\\site-packages\\sklearn\\svm\\base.py:929: ConvergenceWarning: Liblinear failed to converge, increase the number of iterations.\n",
      "  \"the number of iterations.\", ConvergenceWarning)\n"
     ]
    },
    {
     "name": "stdout",
     "output_type": "stream",
     "text": [
      "预测准确率： 0.7252995893740048\n",
      "查看选择的参数模型： {'C': 10}\n"
     ]
    },
    {
     "name": "stderr",
     "output_type": "stream",
     "text": [
      "D:\\anaconda\\lib\\site-packages\\sklearn\\svm\\base.py:929: ConvergenceWarning: Liblinear failed to converge, increase the number of iterations.\n",
      "  \"the number of iterations.\", ConvergenceWarning)\n"
     ]
    }
   ],
   "source": [
    "from sklearn.multiclass import OneVsRestClassifier\n",
    "from sklearn.svm import LinearSVC\n",
    "from sklearn.model_selection import cross_val_score\n",
    "param = {\"C\":[0.1, 1, 10]}\n",
    "svc_model = LinearSVC()\n",
    "gc = GridSearchCV(svc_model,param_grid=param,cv=10)\n",
    "gc.fit(train_X, train_y)\n",
    "print(\"预测准确率：\",gc.score(test_X, test_y))\n",
    "print(\"查看选择的参数模型：\",gc.best_params_)"
   ]
  },
  {
   "cell_type": "code",
   "execution_count": null,
   "metadata": {},
   "outputs": [],
   "source": []
  },
  {
   "cell_type": "code",
   "execution_count": null,
   "metadata": {},
   "outputs": [],
   "source": []
  }
 ],
 "metadata": {
  "kernelspec": {
   "display_name": "Python 3",
   "language": "python",
   "name": "python3"
  },
  "language_info": {
   "codemirror_mode": {
    "name": "ipython",
    "version": 3
   },
   "file_extension": ".py",
   "mimetype": "text/x-python",
   "name": "python",
   "nbconvert_exporter": "python",
   "pygments_lexer": "ipython3",
   "version": "3.7.3"
  }
 },
 "nbformat": 4,
 "nbformat_minor": 2
}
